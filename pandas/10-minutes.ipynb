{
 "metadata": {
  "language_info": {
   "codemirror_mode": {
    "name": "ipython",
    "version": 3
   },
   "file_extension": ".py",
   "mimetype": "text/x-python",
   "name": "python",
   "nbconvert_exporter": "python",
   "pygments_lexer": "ipython3",
   "version": "3.8.3-final"
  },
  "orig_nbformat": 2,
  "kernelspec": {
   "name": "python3",
   "display_name": "Python 3"
  }
 },
 "nbformat": 4,
 "nbformat_minor": 2,
 "cells": [
  {
   "cell_type": "code",
   "execution_count": 1,
   "metadata": {},
   "outputs": [],
   "source": [
    "import numpy as np\n",
    "import pandas as pd"
   ]
  },
  {
   "cell_type": "code",
   "execution_count": 2,
   "metadata": {},
   "outputs": [],
   "source": [
    "s = pd.Series([1, 3, 5, np.nan, 6, 8])"
   ]
  },
  {
   "cell_type": "code",
   "execution_count": 3,
   "metadata": {},
   "outputs": [
    {
     "output_type": "execute_result",
     "data": {
      "text/plain": [
       "0    1.0\n",
       "1    3.0\n",
       "2    5.0\n",
       "3    NaN\n",
       "4    6.0\n",
       "5    8.0\n",
       "dtype: float64"
      ]
     },
     "metadata": {},
     "execution_count": 3
    }
   ],
   "source": [
    "s"
   ]
  },
  {
   "cell_type": "code",
   "execution_count": 4,
   "metadata": {},
   "outputs": [],
   "source": [
    "dates = pd.date_range('20130101', periods=6)"
   ]
  },
  {
   "cell_type": "code",
   "execution_count": 5,
   "metadata": {},
   "outputs": [
    {
     "output_type": "execute_result",
     "data": {
      "text/plain": [
       "DatetimeIndex(['2013-01-01', '2013-01-02', '2013-01-03', '2013-01-04',\n",
       "               '2013-01-05', '2013-01-06'],\n",
       "              dtype='datetime64[ns]', freq='D')"
      ]
     },
     "metadata": {},
     "execution_count": 5
    }
   ],
   "source": [
    "dates"
   ]
  },
  {
   "cell_type": "code",
   "execution_count": 6,
   "metadata": {},
   "outputs": [],
   "source": [
    "df = pd.DataFrame(np.random.randn(6, 4), index=dates, columns=list('ABCD'))"
   ]
  },
  {
   "cell_type": "code",
   "execution_count": 7,
   "metadata": {},
   "outputs": [
    {
     "output_type": "execute_result",
     "data": {
      "text/plain": [
       "                   A         B         C         D\n",
       "2013-01-01 -0.610512  0.578470 -0.392040 -1.667191\n",
       "2013-01-02 -1.431238  0.276003  0.119081 -0.383929\n",
       "2013-01-03 -0.788719  0.328097 -1.200140  0.499728\n",
       "2013-01-04 -1.032351 -1.578643 -0.077163 -0.849956\n",
       "2013-01-05 -0.638553  0.314026  2.354561 -0.030861\n",
       "2013-01-06  1.455483  1.210694  0.462399 -0.965044"
      ],
      "text/html": "<div>\n<style scoped>\n    .dataframe tbody tr th:only-of-type {\n        vertical-align: middle;\n    }\n\n    .dataframe tbody tr th {\n        vertical-align: top;\n    }\n\n    .dataframe thead th {\n        text-align: right;\n    }\n</style>\n<table border=\"1\" class=\"dataframe\">\n  <thead>\n    <tr style=\"text-align: right;\">\n      <th></th>\n      <th>A</th>\n      <th>B</th>\n      <th>C</th>\n      <th>D</th>\n    </tr>\n  </thead>\n  <tbody>\n    <tr>\n      <th>2013-01-01</th>\n      <td>-0.610512</td>\n      <td>0.578470</td>\n      <td>-0.392040</td>\n      <td>-1.667191</td>\n    </tr>\n    <tr>\n      <th>2013-01-02</th>\n      <td>-1.431238</td>\n      <td>0.276003</td>\n      <td>0.119081</td>\n      <td>-0.383929</td>\n    </tr>\n    <tr>\n      <th>2013-01-03</th>\n      <td>-0.788719</td>\n      <td>0.328097</td>\n      <td>-1.200140</td>\n      <td>0.499728</td>\n    </tr>\n    <tr>\n      <th>2013-01-04</th>\n      <td>-1.032351</td>\n      <td>-1.578643</td>\n      <td>-0.077163</td>\n      <td>-0.849956</td>\n    </tr>\n    <tr>\n      <th>2013-01-05</th>\n      <td>-0.638553</td>\n      <td>0.314026</td>\n      <td>2.354561</td>\n      <td>-0.030861</td>\n    </tr>\n    <tr>\n      <th>2013-01-06</th>\n      <td>1.455483</td>\n      <td>1.210694</td>\n      <td>0.462399</td>\n      <td>-0.965044</td>\n    </tr>\n  </tbody>\n</table>\n</div>"
     },
     "metadata": {},
     "execution_count": 7
    }
   ],
   "source": [
    "df"
   ]
  },
  {
   "cell_type": "code",
   "execution_count": 8,
   "metadata": {},
   "outputs": [],
   "source": [
    "df2 = pd.DataFrame({'A': 1.,\n",
    "                    'B': pd.Timestamp('20130102'),\n",
    "                    'C': pd.Series(1, index=list(range(4)), dtype='float32'),\n",
    "                    'D': np.array([3] * 4, dtype='int32'),\n",
    "                    'E': pd.Categorical([\"test\", \"train\", \"test\", \"train\"]),\n",
    "                    'F': 'foo'})"
   ]
  },
  {
   "cell_type": "code",
   "execution_count": 9,
   "metadata": {},
   "outputs": [
    {
     "output_type": "execute_result",
     "data": {
      "text/plain": [
       "A           float64\n",
       "B    datetime64[ns]\n",
       "C           float32\n",
       "D             int32\n",
       "E          category\n",
       "F            object\n",
       "dtype: object"
      ]
     },
     "metadata": {},
     "execution_count": 9
    }
   ],
   "source": [
    "df2.dtypes"
   ]
  },
  {
   "cell_type": "code",
   "execution_count": 10,
   "metadata": {},
   "outputs": [
    {
     "output_type": "error",
     "ename": "ImportError",
     "evalue": "matplotlib is required for plotting when the default backend \"matplotlib\" is selected.",
     "traceback": [
      "\u001b[0;31m---------------------------------------------------------------------------\u001b[0m",
      "\u001b[0;31mImportError\u001b[0m                               Traceback (most recent call last)",
      "\u001b[0;32m<ipython-input-10-cf7bf38f3e99>\u001b[0m in \u001b[0;36m<module>\u001b[0;34m\u001b[0m\n\u001b[0;32m----> 1\u001b[0;31m \u001b[0mdf2\u001b[0m\u001b[0;34m.\u001b[0m\u001b[0mboxplot\u001b[0m\u001b[0;34m(\u001b[0m\u001b[0;34m)\u001b[0m\u001b[0;34m\u001b[0m\u001b[0;34m\u001b[0m\u001b[0m\n\u001b[0m",
      "\u001b[0;32m~/miniconda3/lib/python3.8/site-packages/pandas/plotting/_core.py\u001b[0m in \u001b[0;36mboxplot_frame\u001b[0;34m(self, column, by, ax, fontsize, rot, grid, figsize, layout, return_type, backend, **kwargs)\u001b[0m\n\u001b[1;32m    491\u001b[0m     \u001b[0;34m**\u001b[0m\u001b[0mkwargs\u001b[0m\u001b[0;34m,\u001b[0m\u001b[0;34m\u001b[0m\u001b[0;34m\u001b[0m\u001b[0m\n\u001b[1;32m    492\u001b[0m ):\n\u001b[0;32m--> 493\u001b[0;31m     \u001b[0mplot_backend\u001b[0m \u001b[0;34m=\u001b[0m \u001b[0m_get_plot_backend\u001b[0m\u001b[0;34m(\u001b[0m\u001b[0mbackend\u001b[0m\u001b[0;34m)\u001b[0m\u001b[0;34m\u001b[0m\u001b[0;34m\u001b[0m\u001b[0m\n\u001b[0m\u001b[1;32m    494\u001b[0m     return plot_backend.boxplot_frame(\n\u001b[1;32m    495\u001b[0m         \u001b[0mself\u001b[0m\u001b[0;34m,\u001b[0m\u001b[0;34m\u001b[0m\u001b[0;34m\u001b[0m\u001b[0m\n",
      "\u001b[0;32m~/miniconda3/lib/python3.8/site-packages/pandas/plotting/_core.py\u001b[0m in \u001b[0;36m_get_plot_backend\u001b[0;34m(backend)\u001b[0m\n\u001b[1;32m   1778\u001b[0m             \u001b[0;32mimport\u001b[0m \u001b[0mpandas\u001b[0m\u001b[0;34m.\u001b[0m\u001b[0mplotting\u001b[0m\u001b[0;34m.\u001b[0m\u001b[0m_matplotlib\u001b[0m \u001b[0;32mas\u001b[0m \u001b[0mmodule\u001b[0m\u001b[0;34m\u001b[0m\u001b[0;34m\u001b[0m\u001b[0m\n\u001b[1;32m   1779\u001b[0m         \u001b[0;32mexcept\u001b[0m \u001b[0mImportError\u001b[0m\u001b[0;34m:\u001b[0m\u001b[0;34m\u001b[0m\u001b[0;34m\u001b[0m\u001b[0m\n\u001b[0;32m-> 1780\u001b[0;31m             raise ImportError(\n\u001b[0m\u001b[1;32m   1781\u001b[0m                 \u001b[0;34m\"matplotlib is required for plotting when the \"\u001b[0m\u001b[0;34m\u001b[0m\u001b[0;34m\u001b[0m\u001b[0m\n\u001b[1;32m   1782\u001b[0m                 \u001b[0;34m'default backend \"matplotlib\" is selected.'\u001b[0m\u001b[0;34m\u001b[0m\u001b[0;34m\u001b[0m\u001b[0m\n",
      "\u001b[0;31mImportError\u001b[0m: matplotlib is required for plotting when the default backend \"matplotlib\" is selected."
     ]
    }
   ],
   "source": [
    "df2.boxplot()"
   ]
  },
  {
   "cell_type": "code",
   "execution_count": 21,
   "metadata": {},
   "outputs": [
    {
     "output_type": "execute_result",
     "data": {
      "text/plain": [
       "     A          B    C  D      E    F\n",
       "0  1.0 2013-01-02  1.0  3   test  foo\n",
       "1  1.0 2013-01-02  1.0  3  train  foo\n",
       "2  1.0 2013-01-02  1.0  3   test  foo\n",
       "3  1.0 2013-01-02  1.0  3  train  foo"
      ],
      "text/html": "<div>\n<style scoped>\n    .dataframe tbody tr th:only-of-type {\n        vertical-align: middle;\n    }\n\n    .dataframe tbody tr th {\n        vertical-align: top;\n    }\n\n    .dataframe thead th {\n        text-align: right;\n    }\n</style>\n<table border=\"1\" class=\"dataframe\">\n  <thead>\n    <tr style=\"text-align: right;\">\n      <th></th>\n      <th>A</th>\n      <th>B</th>\n      <th>C</th>\n      <th>D</th>\n      <th>E</th>\n      <th>F</th>\n    </tr>\n  </thead>\n  <tbody>\n    <tr>\n      <th>0</th>\n      <td>1.0</td>\n      <td>2013-01-02</td>\n      <td>1.0</td>\n      <td>3</td>\n      <td>test</td>\n      <td>foo</td>\n    </tr>\n    <tr>\n      <th>1</th>\n      <td>1.0</td>\n      <td>2013-01-02</td>\n      <td>1.0</td>\n      <td>3</td>\n      <td>train</td>\n      <td>foo</td>\n    </tr>\n    <tr>\n      <th>2</th>\n      <td>1.0</td>\n      <td>2013-01-02</td>\n      <td>1.0</td>\n      <td>3</td>\n      <td>test</td>\n      <td>foo</td>\n    </tr>\n    <tr>\n      <th>3</th>\n      <td>1.0</td>\n      <td>2013-01-02</td>\n      <td>1.0</td>\n      <td>3</td>\n      <td>train</td>\n      <td>foo</td>\n    </tr>\n  </tbody>\n</table>\n</div>"
     },
     "metadata": {},
     "execution_count": 21
    }
   ],
   "source": [
    "df2.head()"
   ]
  },
  {
   "cell_type": "code",
   "execution_count": 29,
   "metadata": {},
   "outputs": [
    {
     "output_type": "execute_result",
     "data": {
      "text/plain": [
       "         A    C    D\n",
       "count  4.0  4.0  4.0\n",
       "mean   1.0  1.0  3.0\n",
       "std    0.0  0.0  0.0\n",
       "min    1.0  1.0  3.0\n",
       "25%    1.0  1.0  3.0\n",
       "50%    1.0  1.0  3.0\n",
       "75%    1.0  1.0  3.0\n",
       "max    1.0  1.0  3.0"
      ],
      "text/html": "<div>\n<style scoped>\n    .dataframe tbody tr th:only-of-type {\n        vertical-align: middle;\n    }\n\n    .dataframe tbody tr th {\n        vertical-align: top;\n    }\n\n    .dataframe thead th {\n        text-align: right;\n    }\n</style>\n<table border=\"1\" class=\"dataframe\">\n  <thead>\n    <tr style=\"text-align: right;\">\n      <th></th>\n      <th>A</th>\n      <th>C</th>\n      <th>D</th>\n    </tr>\n  </thead>\n  <tbody>\n    <tr>\n      <th>count</th>\n      <td>4.0</td>\n      <td>4.0</td>\n      <td>4.0</td>\n    </tr>\n    <tr>\n      <th>mean</th>\n      <td>1.0</td>\n      <td>1.0</td>\n      <td>3.0</td>\n    </tr>\n    <tr>\n      <th>std</th>\n      <td>0.0</td>\n      <td>0.0</td>\n      <td>0.0</td>\n    </tr>\n    <tr>\n      <th>min</th>\n      <td>1.0</td>\n      <td>1.0</td>\n      <td>3.0</td>\n    </tr>\n    <tr>\n      <th>25%</th>\n      <td>1.0</td>\n      <td>1.0</td>\n      <td>3.0</td>\n    </tr>\n    <tr>\n      <th>50%</th>\n      <td>1.0</td>\n      <td>1.0</td>\n      <td>3.0</td>\n    </tr>\n    <tr>\n      <th>75%</th>\n      <td>1.0</td>\n      <td>1.0</td>\n      <td>3.0</td>\n    </tr>\n    <tr>\n      <th>max</th>\n      <td>1.0</td>\n      <td>1.0</td>\n      <td>3.0</td>\n    </tr>\n  </tbody>\n</table>\n</div>"
     },
     "metadata": {},
     "execution_count": 29
    }
   ],
   "source": [
    "df2.describe()"
   ]
  },
  {
   "cell_type": "code",
   "execution_count": 32,
   "metadata": {},
   "outputs": [
    {
     "output_type": "execute_result",
     "data": {
      "text/plain": [
       "DatetimeIndex(['2013-01-01', '2013-01-02', '2013-01-03', '2013-01-04',\n",
       "               '2013-01-05', '2013-01-06'],\n",
       "              dtype='datetime64[ns]', freq='D')"
      ]
     },
     "metadata": {},
     "execution_count": 32
    }
   ],
   "source": [
    "df.index"
   ]
  },
  {
   "cell_type": "code",
   "execution_count": 33,
   "metadata": {},
   "outputs": [
    {
     "output_type": "execute_result",
     "data": {
      "text/plain": [
       "Index(['A', 'B', 'C', 'D'], dtype='object')"
      ]
     },
     "metadata": {},
     "execution_count": 33
    }
   ],
   "source": [
    "df.columns"
   ]
  },
  {
   "cell_type": "code",
   "execution_count": 35,
   "metadata": {},
   "outputs": [
    {
     "output_type": "execute_result",
     "data": {
      "text/plain": [
       "array([[ 1.08300909,  1.43740797,  0.43985203,  1.01117381],\n",
       "       [-0.46247788, -1.87160209, -0.71831993, -0.37091916],\n",
       "       [ 1.52649976, -0.81648182,  1.37815789,  0.81849427],\n",
       "       [ 0.83369922, -0.57257927,  0.05924625,  0.79063327],\n",
       "       [-0.95645154,  0.43521115, -0.20624572, -2.28649016],\n",
       "       [ 1.24303758, -0.15824918, -1.53682709,  1.17095551]])"
      ]
     },
     "metadata": {},
     "execution_count": 35
    }
   ],
   "source": [
    "df.to_numpy()"
   ]
  },
  {
   "cell_type": "code",
   "execution_count": 39,
   "metadata": {},
   "outputs": [
    {
     "output_type": "execute_result",
     "data": {
      "text/plain": [
       "array([[1.0, Timestamp('2013-01-02 00:00:00'), 1.0, 3, 'test', 'foo'],\n",
       "       [1.0, Timestamp('2013-01-02 00:00:00'), 1.0, 3, 'train', 'foo'],\n",
       "       [1.0, Timestamp('2013-01-02 00:00:00'), 1.0, 3, 'test', 'foo'],\n",
       "       [1.0, Timestamp('2013-01-02 00:00:00'), 1.0, 3, 'train', 'foo']],\n",
       "      dtype=object)"
      ]
     },
     "metadata": {},
     "execution_count": 39
    }
   ],
   "source": [
    "df2.to_numpy() # more expensive b/c multiple dtypes"
   ]
  },
  {
   "cell_type": "code",
   "execution_count": 45,
   "metadata": {},
   "outputs": [
    {
     "output_type": "execute_result",
     "data": {
      "text/plain": [
       "   2013-01-01  2013-01-02  2013-01-03  2013-01-04  2013-01-05  2013-01-06\n",
       "A    1.083009   -0.462478    1.526500    0.833699   -0.956452    1.243038\n",
       "B    1.437408   -1.871602   -0.816482   -0.572579    0.435211   -0.158249\n",
       "C    0.439852   -0.718320    1.378158    0.059246   -0.206246   -1.536827\n",
       "D    1.011174   -0.370919    0.818494    0.790633   -2.286490    1.170956"
      ],
      "text/html": "<div>\n<style scoped>\n    .dataframe tbody tr th:only-of-type {\n        vertical-align: middle;\n    }\n\n    .dataframe tbody tr th {\n        vertical-align: top;\n    }\n\n    .dataframe thead th {\n        text-align: right;\n    }\n</style>\n<table border=\"1\" class=\"dataframe\">\n  <thead>\n    <tr style=\"text-align: right;\">\n      <th></th>\n      <th>2013-01-01</th>\n      <th>2013-01-02</th>\n      <th>2013-01-03</th>\n      <th>2013-01-04</th>\n      <th>2013-01-05</th>\n      <th>2013-01-06</th>\n    </tr>\n  </thead>\n  <tbody>\n    <tr>\n      <th>A</th>\n      <td>1.083009</td>\n      <td>-0.462478</td>\n      <td>1.526500</td>\n      <td>0.833699</td>\n      <td>-0.956452</td>\n      <td>1.243038</td>\n    </tr>\n    <tr>\n      <th>B</th>\n      <td>1.437408</td>\n      <td>-1.871602</td>\n      <td>-0.816482</td>\n      <td>-0.572579</td>\n      <td>0.435211</td>\n      <td>-0.158249</td>\n    </tr>\n    <tr>\n      <th>C</th>\n      <td>0.439852</td>\n      <td>-0.718320</td>\n      <td>1.378158</td>\n      <td>0.059246</td>\n      <td>-0.206246</td>\n      <td>-1.536827</td>\n    </tr>\n    <tr>\n      <th>D</th>\n      <td>1.011174</td>\n      <td>-0.370919</td>\n      <td>0.818494</td>\n      <td>0.790633</td>\n      <td>-2.286490</td>\n      <td>1.170956</td>\n    </tr>\n  </tbody>\n</table>\n</div>"
     },
     "metadata": {},
     "execution_count": 45
    }
   ],
   "source": [
    "df.T # transposing"
   ]
  },
  {
   "cell_type": "code",
   "execution_count": 46,
   "metadata": {},
   "outputs": [
    {
     "output_type": "execute_result",
     "data": {
      "text/plain": [
       "   2013-01-01  2013-01-02  2013-01-03  2013-01-04  2013-01-05  2013-01-06\n",
       "A    1.083009   -0.462478    1.526500    0.833699   -0.956452    1.243038\n",
       "B    1.437408   -1.871602   -0.816482   -0.572579    0.435211   -0.158249\n",
       "C    0.439852   -0.718320    1.378158    0.059246   -0.206246   -1.536827\n",
       "D    1.011174   -0.370919    0.818494    0.790633   -2.286490    1.170956"
      ],
      "text/html": "<div>\n<style scoped>\n    .dataframe tbody tr th:only-of-type {\n        vertical-align: middle;\n    }\n\n    .dataframe tbody tr th {\n        vertical-align: top;\n    }\n\n    .dataframe thead th {\n        text-align: right;\n    }\n</style>\n<table border=\"1\" class=\"dataframe\">\n  <thead>\n    <tr style=\"text-align: right;\">\n      <th></th>\n      <th>2013-01-01</th>\n      <th>2013-01-02</th>\n      <th>2013-01-03</th>\n      <th>2013-01-04</th>\n      <th>2013-01-05</th>\n      <th>2013-01-06</th>\n    </tr>\n  </thead>\n  <tbody>\n    <tr>\n      <th>A</th>\n      <td>1.083009</td>\n      <td>-0.462478</td>\n      <td>1.526500</td>\n      <td>0.833699</td>\n      <td>-0.956452</td>\n      <td>1.243038</td>\n    </tr>\n    <tr>\n      <th>B</th>\n      <td>1.437408</td>\n      <td>-1.871602</td>\n      <td>-0.816482</td>\n      <td>-0.572579</td>\n      <td>0.435211</td>\n      <td>-0.158249</td>\n    </tr>\n    <tr>\n      <th>C</th>\n      <td>0.439852</td>\n      <td>-0.718320</td>\n      <td>1.378158</td>\n      <td>0.059246</td>\n      <td>-0.206246</td>\n      <td>-1.536827</td>\n    </tr>\n    <tr>\n      <th>D</th>\n      <td>1.011174</td>\n      <td>-0.370919</td>\n      <td>0.818494</td>\n      <td>0.790633</td>\n      <td>-2.286490</td>\n      <td>1.170956</td>\n    </tr>\n  </tbody>\n</table>\n</div>"
     },
     "metadata": {},
     "execution_count": 46
    }
   ],
   "source": [
    "df.transpose()"
   ]
  },
  {
   "cell_type": "code",
   "execution_count": 49,
   "metadata": {},
   "outputs": [
    {
     "output_type": "execute_result",
     "data": {
      "text/plain": [
       "                   D         C         B         A\n",
       "2013-01-01  1.011174  0.439852  1.437408  1.083009\n",
       "2013-01-02 -0.370919 -0.718320 -1.871602 -0.462478\n",
       "2013-01-03  0.818494  1.378158 -0.816482  1.526500\n",
       "2013-01-04  0.790633  0.059246 -0.572579  0.833699\n",
       "2013-01-05 -2.286490 -0.206246  0.435211 -0.956452\n",
       "2013-01-06  1.170956 -1.536827 -0.158249  1.243038"
      ],
      "text/html": "<div>\n<style scoped>\n    .dataframe tbody tr th:only-of-type {\n        vertical-align: middle;\n    }\n\n    .dataframe tbody tr th {\n        vertical-align: top;\n    }\n\n    .dataframe thead th {\n        text-align: right;\n    }\n</style>\n<table border=\"1\" class=\"dataframe\">\n  <thead>\n    <tr style=\"text-align: right;\">\n      <th></th>\n      <th>D</th>\n      <th>C</th>\n      <th>B</th>\n      <th>A</th>\n    </tr>\n  </thead>\n  <tbody>\n    <tr>\n      <th>2013-01-01</th>\n      <td>1.011174</td>\n      <td>0.439852</td>\n      <td>1.437408</td>\n      <td>1.083009</td>\n    </tr>\n    <tr>\n      <th>2013-01-02</th>\n      <td>-0.370919</td>\n      <td>-0.718320</td>\n      <td>-1.871602</td>\n      <td>-0.462478</td>\n    </tr>\n    <tr>\n      <th>2013-01-03</th>\n      <td>0.818494</td>\n      <td>1.378158</td>\n      <td>-0.816482</td>\n      <td>1.526500</td>\n    </tr>\n    <tr>\n      <th>2013-01-04</th>\n      <td>0.790633</td>\n      <td>0.059246</td>\n      <td>-0.572579</td>\n      <td>0.833699</td>\n    </tr>\n    <tr>\n      <th>2013-01-05</th>\n      <td>-2.286490</td>\n      <td>-0.206246</td>\n      <td>0.435211</td>\n      <td>-0.956452</td>\n    </tr>\n    <tr>\n      <th>2013-01-06</th>\n      <td>1.170956</td>\n      <td>-1.536827</td>\n      <td>-0.158249</td>\n      <td>1.243038</td>\n    </tr>\n  </tbody>\n</table>\n</div>"
     },
     "metadata": {},
     "execution_count": 49
    }
   ],
   "source": [
    "df.sort_index(axis=1, ascending=False) # axis?"
   ]
  },
  {
   "cell_type": "code",
   "execution_count": 51,
   "metadata": {},
   "outputs": [
    {
     "output_type": "execute_result",
     "data": {
      "text/plain": [
       "                   A         B         C         D\n",
       "2013-01-01  1.083009  1.437408  0.439852  1.011174\n",
       "2013-01-05 -0.956452  0.435211 -0.206246 -2.286490\n",
       "2013-01-06  1.243038 -0.158249 -1.536827  1.170956\n",
       "2013-01-04  0.833699 -0.572579  0.059246  0.790633\n",
       "2013-01-03  1.526500 -0.816482  1.378158  0.818494\n",
       "2013-01-02 -0.462478 -1.871602 -0.718320 -0.370919"
      ],
      "text/html": "<div>\n<style scoped>\n    .dataframe tbody tr th:only-of-type {\n        vertical-align: middle;\n    }\n\n    .dataframe tbody tr th {\n        vertical-align: top;\n    }\n\n    .dataframe thead th {\n        text-align: right;\n    }\n</style>\n<table border=\"1\" class=\"dataframe\">\n  <thead>\n    <tr style=\"text-align: right;\">\n      <th></th>\n      <th>A</th>\n      <th>B</th>\n      <th>C</th>\n      <th>D</th>\n    </tr>\n  </thead>\n  <tbody>\n    <tr>\n      <th>2013-01-01</th>\n      <td>1.083009</td>\n      <td>1.437408</td>\n      <td>0.439852</td>\n      <td>1.011174</td>\n    </tr>\n    <tr>\n      <th>2013-01-05</th>\n      <td>-0.956452</td>\n      <td>0.435211</td>\n      <td>-0.206246</td>\n      <td>-2.286490</td>\n    </tr>\n    <tr>\n      <th>2013-01-06</th>\n      <td>1.243038</td>\n      <td>-0.158249</td>\n      <td>-1.536827</td>\n      <td>1.170956</td>\n    </tr>\n    <tr>\n      <th>2013-01-04</th>\n      <td>0.833699</td>\n      <td>-0.572579</td>\n      <td>0.059246</td>\n      <td>0.790633</td>\n    </tr>\n    <tr>\n      <th>2013-01-03</th>\n      <td>1.526500</td>\n      <td>-0.816482</td>\n      <td>1.378158</td>\n      <td>0.818494</td>\n    </tr>\n    <tr>\n      <th>2013-01-02</th>\n      <td>-0.462478</td>\n      <td>-1.871602</td>\n      <td>-0.718320</td>\n      <td>-0.370919</td>\n    </tr>\n  </tbody>\n</table>\n</div>"
     },
     "metadata": {},
     "execution_count": 51
    }
   ],
   "source": [
    "df.sort_values(by='B', ascending=False)"
   ]
  },
  {
   "cell_type": "code",
   "execution_count": 52,
   "metadata": {},
   "outputs": [
    {
     "output_type": "execute_result",
     "data": {
      "text/plain": [
       "2013-01-01    1.083009\n",
       "2013-01-02   -0.462478\n",
       "2013-01-03    1.526500\n",
       "2013-01-04    0.833699\n",
       "2013-01-05   -0.956452\n",
       "2013-01-06    1.243038\n",
       "Freq: D, Name: A, dtype: float64"
      ]
     },
     "metadata": {},
     "execution_count": 52
    }
   ],
   "source": [
    "df['A']"
   ]
  },
  {
   "cell_type": "code",
   "execution_count": 55,
   "metadata": {},
   "outputs": [
    {
     "output_type": "execute_result",
     "data": {
      "text/plain": [
       "                   A         D\n",
       "2013-01-01  1.083009  1.011174\n",
       "2013-01-02 -0.462478 -0.370919\n",
       "2013-01-03  1.526500  0.818494\n",
       "2013-01-04  0.833699  0.790633\n",
       "2013-01-05 -0.956452 -2.286490\n",
       "2013-01-06  1.243038  1.170956"
      ],
      "text/html": "<div>\n<style scoped>\n    .dataframe tbody tr th:only-of-type {\n        vertical-align: middle;\n    }\n\n    .dataframe tbody tr th {\n        vertical-align: top;\n    }\n\n    .dataframe thead th {\n        text-align: right;\n    }\n</style>\n<table border=\"1\" class=\"dataframe\">\n  <thead>\n    <tr style=\"text-align: right;\">\n      <th></th>\n      <th>A</th>\n      <th>D</th>\n    </tr>\n  </thead>\n  <tbody>\n    <tr>\n      <th>2013-01-01</th>\n      <td>1.083009</td>\n      <td>1.011174</td>\n    </tr>\n    <tr>\n      <th>2013-01-02</th>\n      <td>-0.462478</td>\n      <td>-0.370919</td>\n    </tr>\n    <tr>\n      <th>2013-01-03</th>\n      <td>1.526500</td>\n      <td>0.818494</td>\n    </tr>\n    <tr>\n      <th>2013-01-04</th>\n      <td>0.833699</td>\n      <td>0.790633</td>\n    </tr>\n    <tr>\n      <th>2013-01-05</th>\n      <td>-0.956452</td>\n      <td>-2.286490</td>\n    </tr>\n    <tr>\n      <th>2013-01-06</th>\n      <td>1.243038</td>\n      <td>1.170956</td>\n    </tr>\n  </tbody>\n</table>\n</div>"
     },
     "metadata": {},
     "execution_count": 55
    }
   ],
   "source": [
    "df[['A', 'D']]"
   ]
  },
  {
   "cell_type": "code",
   "execution_count": 56,
   "metadata": {},
   "outputs": [
    {
     "output_type": "execute_result",
     "data": {
      "text/plain": [
       "                   A         B         C         D\n",
       "2013-01-01  1.083009  1.437408  0.439852  1.011174\n",
       "2013-01-02 -0.462478 -1.871602 -0.718320 -0.370919\n",
       "2013-01-03  1.526500 -0.816482  1.378158  0.818494"
      ],
      "text/html": "<div>\n<style scoped>\n    .dataframe tbody tr th:only-of-type {\n        vertical-align: middle;\n    }\n\n    .dataframe tbody tr th {\n        vertical-align: top;\n    }\n\n    .dataframe thead th {\n        text-align: right;\n    }\n</style>\n<table border=\"1\" class=\"dataframe\">\n  <thead>\n    <tr style=\"text-align: right;\">\n      <th></th>\n      <th>A</th>\n      <th>B</th>\n      <th>C</th>\n      <th>D</th>\n    </tr>\n  </thead>\n  <tbody>\n    <tr>\n      <th>2013-01-01</th>\n      <td>1.083009</td>\n      <td>1.437408</td>\n      <td>0.439852</td>\n      <td>1.011174</td>\n    </tr>\n    <tr>\n      <th>2013-01-02</th>\n      <td>-0.462478</td>\n      <td>-1.871602</td>\n      <td>-0.718320</td>\n      <td>-0.370919</td>\n    </tr>\n    <tr>\n      <th>2013-01-03</th>\n      <td>1.526500</td>\n      <td>-0.816482</td>\n      <td>1.378158</td>\n      <td>0.818494</td>\n    </tr>\n  </tbody>\n</table>\n</div>"
     },
     "metadata": {},
     "execution_count": 56
    }
   ],
   "source": [
    "df[0:3]"
   ]
  },
  {
   "cell_type": "code",
   "execution_count": 57,
   "metadata": {},
   "outputs": [],
   "source": [
    "t = df.T"
   ]
  },
  {
   "cell_type": "code",
   "execution_count": 58,
   "metadata": {},
   "outputs": [
    {
     "output_type": "execute_result",
     "data": {
      "text/plain": [
       "   2013-01-01  2013-01-02  2013-01-03  2013-01-04  2013-01-05  2013-01-06\n",
       "A    1.083009   -0.462478    1.526500    0.833699   -0.956452    1.243038\n",
       "B    1.437408   -1.871602   -0.816482   -0.572579    0.435211   -0.158249\n",
       "C    0.439852   -0.718320    1.378158    0.059246   -0.206246   -1.536827"
      ],
      "text/html": "<div>\n<style scoped>\n    .dataframe tbody tr th:only-of-type {\n        vertical-align: middle;\n    }\n\n    .dataframe tbody tr th {\n        vertical-align: top;\n    }\n\n    .dataframe thead th {\n        text-align: right;\n    }\n</style>\n<table border=\"1\" class=\"dataframe\">\n  <thead>\n    <tr style=\"text-align: right;\">\n      <th></th>\n      <th>2013-01-01</th>\n      <th>2013-01-02</th>\n      <th>2013-01-03</th>\n      <th>2013-01-04</th>\n      <th>2013-01-05</th>\n      <th>2013-01-06</th>\n    </tr>\n  </thead>\n  <tbody>\n    <tr>\n      <th>A</th>\n      <td>1.083009</td>\n      <td>-0.462478</td>\n      <td>1.526500</td>\n      <td>0.833699</td>\n      <td>-0.956452</td>\n      <td>1.243038</td>\n    </tr>\n    <tr>\n      <th>B</th>\n      <td>1.437408</td>\n      <td>-1.871602</td>\n      <td>-0.816482</td>\n      <td>-0.572579</td>\n      <td>0.435211</td>\n      <td>-0.158249</td>\n    </tr>\n    <tr>\n      <th>C</th>\n      <td>0.439852</td>\n      <td>-0.718320</td>\n      <td>1.378158</td>\n      <td>0.059246</td>\n      <td>-0.206246</td>\n      <td>-1.536827</td>\n    </tr>\n  </tbody>\n</table>\n</div>"
     },
     "metadata": {},
     "execution_count": 58
    }
   ],
   "source": [
    "t['A':'C']"
   ]
  },
  {
   "cell_type": "code",
   "execution_count": 62,
   "metadata": {},
   "outputs": [
    {
     "output_type": "execute_result",
     "data": {
      "text/plain": [
       "A    1.526500\n",
       "B   -0.816482\n",
       "C    1.378158\n",
       "D    0.818494\n",
       "Name: 2013-01-03 00:00:00, dtype: float64"
      ]
     },
     "metadata": {},
     "execution_count": 62
    }
   ],
   "source": [
    "df.loc[dates[2]] # dates is our datetimeindex originally used to make df"
   ]
  },
  {
   "cell_type": "code",
   "execution_count": 63,
   "metadata": {},
   "outputs": [
    {
     "output_type": "execute_result",
     "data": {
      "text/plain": [
       "                   A         B\n",
       "2013-01-01  1.083009  1.437408\n",
       "2013-01-02 -0.462478 -1.871602\n",
       "2013-01-03  1.526500 -0.816482\n",
       "2013-01-04  0.833699 -0.572579\n",
       "2013-01-05 -0.956452  0.435211\n",
       "2013-01-06  1.243038 -0.158249"
      ],
      "text/html": "<div>\n<style scoped>\n    .dataframe tbody tr th:only-of-type {\n        vertical-align: middle;\n    }\n\n    .dataframe tbody tr th {\n        vertical-align: top;\n    }\n\n    .dataframe thead th {\n        text-align: right;\n    }\n</style>\n<table border=\"1\" class=\"dataframe\">\n  <thead>\n    <tr style=\"text-align: right;\">\n      <th></th>\n      <th>A</th>\n      <th>B</th>\n    </tr>\n  </thead>\n  <tbody>\n    <tr>\n      <th>2013-01-01</th>\n      <td>1.083009</td>\n      <td>1.437408</td>\n    </tr>\n    <tr>\n      <th>2013-01-02</th>\n      <td>-0.462478</td>\n      <td>-1.871602</td>\n    </tr>\n    <tr>\n      <th>2013-01-03</th>\n      <td>1.526500</td>\n      <td>-0.816482</td>\n    </tr>\n    <tr>\n      <th>2013-01-04</th>\n      <td>0.833699</td>\n      <td>-0.572579</td>\n    </tr>\n    <tr>\n      <th>2013-01-05</th>\n      <td>-0.956452</td>\n      <td>0.435211</td>\n    </tr>\n    <tr>\n      <th>2013-01-06</th>\n      <td>1.243038</td>\n      <td>-0.158249</td>\n    </tr>\n  </tbody>\n</table>\n</div>"
     },
     "metadata": {},
     "execution_count": 63
    }
   ],
   "source": [
    "df.loc[:, ['A', 'B']] # better than [['A', 'B']]"
   ]
  },
  {
   "cell_type": "code",
   "execution_count": 65,
   "metadata": {},
   "outputs": [
    {
     "output_type": "execute_result",
     "data": {
      "text/plain": [
       "                   A         D\n",
       "2013-01-01  1.083009  1.011174\n",
       "2013-01-02 -0.462478 -0.370919\n",
       "2013-01-03  1.526500  0.818494"
      ],
      "text/html": "<div>\n<style scoped>\n    .dataframe tbody tr th:only-of-type {\n        vertical-align: middle;\n    }\n\n    .dataframe tbody tr th {\n        vertical-align: top;\n    }\n\n    .dataframe thead th {\n        text-align: right;\n    }\n</style>\n<table border=\"1\" class=\"dataframe\">\n  <thead>\n    <tr style=\"text-align: right;\">\n      <th></th>\n      <th>A</th>\n      <th>D</th>\n    </tr>\n  </thead>\n  <tbody>\n    <tr>\n      <th>2013-01-01</th>\n      <td>1.083009</td>\n      <td>1.011174</td>\n    </tr>\n    <tr>\n      <th>2013-01-02</th>\n      <td>-0.462478</td>\n      <td>-0.370919</td>\n    </tr>\n    <tr>\n      <th>2013-01-03</th>\n      <td>1.526500</td>\n      <td>0.818494</td>\n    </tr>\n  </tbody>\n</table>\n</div>"
     },
     "metadata": {},
     "execution_count": 65
    }
   ],
   "source": [
    "df.loc[dates[2]:dates[2], ['A', 'D']] # by row and column"
   ]
  },
  {
   "cell_type": "code",
   "execution_count": 70,
   "metadata": {},
   "outputs": [
    {
     "output_type": "execute_result",
     "data": {
      "text/plain": [
       "A   -0.462478\n",
       "B   -1.871602\n",
       "Name: 2013-01-02 00:00:00, dtype: float64"
      ]
     },
     "metadata": {},
     "execution_count": 70
    }
   ],
   "source": [
    "df.loc[dates[1], ['A','B']]"
   ]
  },
  {
   "cell_type": "code",
   "execution_count": 66,
   "metadata": {},
   "outputs": [
    {
     "output_type": "execute_result",
     "data": {
      "text/plain": [
       "1.3781578910317214"
      ]
     },
     "metadata": {},
     "execution_count": 66
    }
   ],
   "source": [
    "df.loc[dates[2], 'C'] # scalar value"
   ]
  },
  {
   "cell_type": "code",
   "execution_count": 69,
   "metadata": {},
   "outputs": [
    {
     "output_type": "execute_result",
     "data": {
      "text/plain": [
       "1.3781578910317214"
      ]
     },
     "metadata": {},
     "execution_count": 69
    }
   ],
   "source": [
    "df.at[dates[2], 'C'] # faster than above"
   ]
  },
  {
   "cell_type": "code",
   "execution_count": 71,
   "metadata": {},
   "outputs": [
    {
     "output_type": "execute_result",
     "data": {
      "text/plain": [
       "A    0.833699\n",
       "B   -0.572579\n",
       "C    0.059246\n",
       "D    0.790633\n",
       "Name: 2013-01-04 00:00:00, dtype: float64"
      ]
     },
     "metadata": {},
     "execution_count": 71
    }
   ],
   "source": [
    "df.iloc[3]"
   ]
  },
  {
   "cell_type": "code",
   "execution_count": 73,
   "metadata": {},
   "outputs": [
    {
     "output_type": "execute_result",
     "data": {
      "text/plain": [
       "                   A         B\n",
       "2013-01-04  0.833699 -0.572579\n",
       "2013-01-05 -0.956452  0.435211"
      ],
      "text/html": "<div>\n<style scoped>\n    .dataframe tbody tr th:only-of-type {\n        vertical-align: middle;\n    }\n\n    .dataframe tbody tr th {\n        vertical-align: top;\n    }\n\n    .dataframe thead th {\n        text-align: right;\n    }\n</style>\n<table border=\"1\" class=\"dataframe\">\n  <thead>\n    <tr style=\"text-align: right;\">\n      <th></th>\n      <th>A</th>\n      <th>B</th>\n    </tr>\n  </thead>\n  <tbody>\n    <tr>\n      <th>2013-01-04</th>\n      <td>0.833699</td>\n      <td>-0.572579</td>\n    </tr>\n    <tr>\n      <th>2013-01-05</th>\n      <td>-0.956452</td>\n      <td>0.435211</td>\n    </tr>\n  </tbody>\n</table>\n</div>"
     },
     "metadata": {},
     "execution_count": 73
    }
   ],
   "source": [
    "df.iloc[3:5, 0:2] # exclusive range"
   ]
  },
  {
   "cell_type": "code",
   "execution_count": 75,
   "metadata": {},
   "outputs": [
    {
     "output_type": "execute_result",
     "data": {
      "text/plain": [
       "                   A         C\n",
       "2013-01-04  0.833699  0.059246\n",
       "2013-01-05 -0.956452 -0.206246\n",
       "2013-01-06  1.243038 -1.536827"
      ],
      "text/html": "<div>\n<style scoped>\n    .dataframe tbody tr th:only-of-type {\n        vertical-align: middle;\n    }\n\n    .dataframe tbody tr th {\n        vertical-align: top;\n    }\n\n    .dataframe thead th {\n        text-align: right;\n    }\n</style>\n<table border=\"1\" class=\"dataframe\">\n  <thead>\n    <tr style=\"text-align: right;\">\n      <th></th>\n      <th>A</th>\n      <th>C</th>\n    </tr>\n  </thead>\n  <tbody>\n    <tr>\n      <th>2013-01-04</th>\n      <td>0.833699</td>\n      <td>0.059246</td>\n    </tr>\n    <tr>\n      <th>2013-01-05</th>\n      <td>-0.956452</td>\n      <td>-0.206246</td>\n    </tr>\n    <tr>\n      <th>2013-01-06</th>\n      <td>1.243038</td>\n      <td>-1.536827</td>\n    </tr>\n  </tbody>\n</table>\n</div>"
     },
     "metadata": {},
     "execution_count": 75
    }
   ],
   "source": [
    "df.iloc[[3, 4, 5], [0, 2]] # by r/c location"
   ]
  },
  {
   "cell_type": "code",
   "execution_count": 76,
   "metadata": {},
   "outputs": [
    {
     "output_type": "execute_result",
     "data": {
      "text/plain": [
       "                   B         C\n",
       "2013-01-01  1.437408  0.439852\n",
       "2013-01-02 -1.871602 -0.718320\n",
       "2013-01-03 -0.816482  1.378158\n",
       "2013-01-04 -0.572579  0.059246\n",
       "2013-01-05  0.435211 -0.206246\n",
       "2013-01-06 -0.158249 -1.536827"
      ],
      "text/html": "<div>\n<style scoped>\n    .dataframe tbody tr th:only-of-type {\n        vertical-align: middle;\n    }\n\n    .dataframe tbody tr th {\n        vertical-align: top;\n    }\n\n    .dataframe thead th {\n        text-align: right;\n    }\n</style>\n<table border=\"1\" class=\"dataframe\">\n  <thead>\n    <tr style=\"text-align: right;\">\n      <th></th>\n      <th>B</th>\n      <th>C</th>\n    </tr>\n  </thead>\n  <tbody>\n    <tr>\n      <th>2013-01-01</th>\n      <td>1.437408</td>\n      <td>0.439852</td>\n    </tr>\n    <tr>\n      <th>2013-01-02</th>\n      <td>-1.871602</td>\n      <td>-0.718320</td>\n    </tr>\n    <tr>\n      <th>2013-01-03</th>\n      <td>-0.816482</td>\n      <td>1.378158</td>\n    </tr>\n    <tr>\n      <th>2013-01-04</th>\n      <td>-0.572579</td>\n      <td>0.059246</td>\n    </tr>\n    <tr>\n      <th>2013-01-05</th>\n      <td>0.435211</td>\n      <td>-0.206246</td>\n    </tr>\n    <tr>\n      <th>2013-01-06</th>\n      <td>-0.158249</td>\n      <td>-1.536827</td>\n    </tr>\n  </tbody>\n</table>\n</div>"
     },
     "metadata": {},
     "execution_count": 76
    }
   ],
   "source": [
    "df.iloc[:, 1:3] # slice only c (or r)"
   ]
  },
  {
   "cell_type": "code",
   "execution_count": 83,
   "metadata": {},
   "outputs": [
    {
     "output_type": "execute_result",
     "data": {
      "text/plain": [
       "                   A         B         C         D\n",
       "2013-01-01  1.083009  1.437408  0.439852  1.011174\n",
       "2013-01-03  1.526500 -0.816482  1.378158  0.818494\n",
       "2013-01-04  0.833699 -0.572579  0.059246  0.790633\n",
       "2013-01-06  1.243038 -0.158249 -1.536827  1.170956"
      ],
      "text/html": "<div>\n<style scoped>\n    .dataframe tbody tr th:only-of-type {\n        vertical-align: middle;\n    }\n\n    .dataframe tbody tr th {\n        vertical-align: top;\n    }\n\n    .dataframe thead th {\n        text-align: right;\n    }\n</style>\n<table border=\"1\" class=\"dataframe\">\n  <thead>\n    <tr style=\"text-align: right;\">\n      <th></th>\n      <th>A</th>\n      <th>B</th>\n      <th>C</th>\n      <th>D</th>\n    </tr>\n  </thead>\n  <tbody>\n    <tr>\n      <th>2013-01-01</th>\n      <td>1.083009</td>\n      <td>1.437408</td>\n      <td>0.439852</td>\n      <td>1.011174</td>\n    </tr>\n    <tr>\n      <th>2013-01-03</th>\n      <td>1.526500</td>\n      <td>-0.816482</td>\n      <td>1.378158</td>\n      <td>0.818494</td>\n    </tr>\n    <tr>\n      <th>2013-01-04</th>\n      <td>0.833699</td>\n      <td>-0.572579</td>\n      <td>0.059246</td>\n      <td>0.790633</td>\n    </tr>\n    <tr>\n      <th>2013-01-06</th>\n      <td>1.243038</td>\n      <td>-0.158249</td>\n      <td>-1.536827</td>\n      <td>1.170956</td>\n    </tr>\n  </tbody>\n</table>\n</div>"
     },
     "metadata": {},
     "execution_count": 83
    }
   ],
   "source": [
    "df[df['A'] > 0]"
   ]
  },
  {
   "cell_type": "code",
   "execution_count": 92,
   "metadata": {},
   "outputs": [
    {
     "output_type": "execute_result",
     "data": {
      "text/plain": [
       "                   A         B         C         D\n",
       "2013-01-01  1.083009  1.437408  0.439852  1.011174\n",
       "2013-01-03  1.526500 -0.816482  1.378158  0.818494\n",
       "2013-01-04  0.833699 -0.572579  0.059246  0.790633\n",
       "2013-01-06  1.243038 -0.158249 -1.536827  1.170956"
      ],
      "text/html": "<div>\n<style scoped>\n    .dataframe tbody tr th:only-of-type {\n        vertical-align: middle;\n    }\n\n    .dataframe tbody tr th {\n        vertical-align: top;\n    }\n\n    .dataframe thead th {\n        text-align: right;\n    }\n</style>\n<table border=\"1\" class=\"dataframe\">\n  <thead>\n    <tr style=\"text-align: right;\">\n      <th></th>\n      <th>A</th>\n      <th>B</th>\n      <th>C</th>\n      <th>D</th>\n    </tr>\n  </thead>\n  <tbody>\n    <tr>\n      <th>2013-01-01</th>\n      <td>1.083009</td>\n      <td>1.437408</td>\n      <td>0.439852</td>\n      <td>1.011174</td>\n    </tr>\n    <tr>\n      <th>2013-01-03</th>\n      <td>1.526500</td>\n      <td>-0.816482</td>\n      <td>1.378158</td>\n      <td>0.818494</td>\n    </tr>\n    <tr>\n      <th>2013-01-04</th>\n      <td>0.833699</td>\n      <td>-0.572579</td>\n      <td>0.059246</td>\n      <td>0.790633</td>\n    </tr>\n    <tr>\n      <th>2013-01-06</th>\n      <td>1.243038</td>\n      <td>-0.158249</td>\n      <td>-1.536827</td>\n      <td>1.170956</td>\n    </tr>\n  </tbody>\n</table>\n</div>"
     },
     "metadata": {},
     "execution_count": 92
    }
   ],
   "source": [
    "df.loc[df.loc[:, 'A'] > 0]"
   ]
  },
  {
   "cell_type": "code",
   "execution_count": 93,
   "metadata": {},
   "outputs": [
    {
     "output_type": "execute_result",
     "data": {
      "text/plain": [
       "                   A         B         C         D\n",
       "2013-01-01  1.083009  1.437408  0.439852  1.011174\n",
       "2013-01-02       NaN       NaN       NaN       NaN\n",
       "2013-01-03  1.526500       NaN  1.378158  0.818494\n",
       "2013-01-04  0.833699       NaN  0.059246  0.790633\n",
       "2013-01-05       NaN  0.435211       NaN       NaN\n",
       "2013-01-06  1.243038       NaN       NaN  1.170956"
      ],
      "text/html": "<div>\n<style scoped>\n    .dataframe tbody tr th:only-of-type {\n        vertical-align: middle;\n    }\n\n    .dataframe tbody tr th {\n        vertical-align: top;\n    }\n\n    .dataframe thead th {\n        text-align: right;\n    }\n</style>\n<table border=\"1\" class=\"dataframe\">\n  <thead>\n    <tr style=\"text-align: right;\">\n      <th></th>\n      <th>A</th>\n      <th>B</th>\n      <th>C</th>\n      <th>D</th>\n    </tr>\n  </thead>\n  <tbody>\n    <tr>\n      <th>2013-01-01</th>\n      <td>1.083009</td>\n      <td>1.437408</td>\n      <td>0.439852</td>\n      <td>1.011174</td>\n    </tr>\n    <tr>\n      <th>2013-01-02</th>\n      <td>NaN</td>\n      <td>NaN</td>\n      <td>NaN</td>\n      <td>NaN</td>\n    </tr>\n    <tr>\n      <th>2013-01-03</th>\n      <td>1.526500</td>\n      <td>NaN</td>\n      <td>1.378158</td>\n      <td>0.818494</td>\n    </tr>\n    <tr>\n      <th>2013-01-04</th>\n      <td>0.833699</td>\n      <td>NaN</td>\n      <td>0.059246</td>\n      <td>0.790633</td>\n    </tr>\n    <tr>\n      <th>2013-01-05</th>\n      <td>NaN</td>\n      <td>0.435211</td>\n      <td>NaN</td>\n      <td>NaN</td>\n    </tr>\n    <tr>\n      <th>2013-01-06</th>\n      <td>1.243038</td>\n      <td>NaN</td>\n      <td>NaN</td>\n      <td>1.170956</td>\n    </tr>\n  </tbody>\n</table>\n</div>"
     },
     "metadata": {},
     "execution_count": 93
    }
   ],
   "source": [
    "df[df > 0] # shorthand for \"value of df\""
   ]
  },
  {
   "cell_type": "code",
   "execution_count": 94,
   "metadata": {},
   "outputs": [
    {
     "output_type": "execute_result",
     "data": {
      "text/plain": [
       "                   A         B         C         D      E\n",
       "2013-01-01  1.083009  1.437408  0.439852  1.011174    one\n",
       "2013-01-02 -0.462478 -1.871602 -0.718320 -0.370919    one\n",
       "2013-01-03  1.526500 -0.816482  1.378158  0.818494    two\n",
       "2013-01-04  0.833699 -0.572579  0.059246  0.790633  three\n",
       "2013-01-05 -0.956452  0.435211 -0.206246 -2.286490   four\n",
       "2013-01-06  1.243038 -0.158249 -1.536827  1.170956  three"
      ],
      "text/html": "<div>\n<style scoped>\n    .dataframe tbody tr th:only-of-type {\n        vertical-align: middle;\n    }\n\n    .dataframe tbody tr th {\n        vertical-align: top;\n    }\n\n    .dataframe thead th {\n        text-align: right;\n    }\n</style>\n<table border=\"1\" class=\"dataframe\">\n  <thead>\n    <tr style=\"text-align: right;\">\n      <th></th>\n      <th>A</th>\n      <th>B</th>\n      <th>C</th>\n      <th>D</th>\n      <th>E</th>\n    </tr>\n  </thead>\n  <tbody>\n    <tr>\n      <th>2013-01-01</th>\n      <td>1.083009</td>\n      <td>1.437408</td>\n      <td>0.439852</td>\n      <td>1.011174</td>\n      <td>one</td>\n    </tr>\n    <tr>\n      <th>2013-01-02</th>\n      <td>-0.462478</td>\n      <td>-1.871602</td>\n      <td>-0.718320</td>\n      <td>-0.370919</td>\n      <td>one</td>\n    </tr>\n    <tr>\n      <th>2013-01-03</th>\n      <td>1.526500</td>\n      <td>-0.816482</td>\n      <td>1.378158</td>\n      <td>0.818494</td>\n      <td>two</td>\n    </tr>\n    <tr>\n      <th>2013-01-04</th>\n      <td>0.833699</td>\n      <td>-0.572579</td>\n      <td>0.059246</td>\n      <td>0.790633</td>\n      <td>three</td>\n    </tr>\n    <tr>\n      <th>2013-01-05</th>\n      <td>-0.956452</td>\n      <td>0.435211</td>\n      <td>-0.206246</td>\n      <td>-2.286490</td>\n      <td>four</td>\n    </tr>\n    <tr>\n      <th>2013-01-06</th>\n      <td>1.243038</td>\n      <td>-0.158249</td>\n      <td>-1.536827</td>\n      <td>1.170956</td>\n      <td>three</td>\n    </tr>\n  </tbody>\n</table>\n</div>"
     },
     "metadata": {},
     "execution_count": 94
    }
   ],
   "source": [
    "df3 = df.copy()\n",
    "df3['E'] = ['one', 'one', 'two', 'three', 'four', 'three']\n",
    "df3"
   ]
  },
  {
   "cell_type": "code",
   "execution_count": 96,
   "metadata": {},
   "outputs": [
    {
     "output_type": "execute_result",
     "data": {
      "text/plain": [
       "                   A         B         C         D     E\n",
       "2013-01-03  1.526500 -0.816482  1.378158  0.818494   two\n",
       "2013-01-05 -0.956452  0.435211 -0.206246 -2.286490  four"
      ],
      "text/html": "<div>\n<style scoped>\n    .dataframe tbody tr th:only-of-type {\n        vertical-align: middle;\n    }\n\n    .dataframe tbody tr th {\n        vertical-align: top;\n    }\n\n    .dataframe thead th {\n        text-align: right;\n    }\n</style>\n<table border=\"1\" class=\"dataframe\">\n  <thead>\n    <tr style=\"text-align: right;\">\n      <th></th>\n      <th>A</th>\n      <th>B</th>\n      <th>C</th>\n      <th>D</th>\n      <th>E</th>\n    </tr>\n  </thead>\n  <tbody>\n    <tr>\n      <th>2013-01-03</th>\n      <td>1.526500</td>\n      <td>-0.816482</td>\n      <td>1.378158</td>\n      <td>0.818494</td>\n      <td>two</td>\n    </tr>\n    <tr>\n      <th>2013-01-05</th>\n      <td>-0.956452</td>\n      <td>0.435211</td>\n      <td>-0.206246</td>\n      <td>-2.286490</td>\n      <td>four</td>\n    </tr>\n  </tbody>\n</table>\n</div>"
     },
     "metadata": {},
     "execution_count": 96
    }
   ],
   "source": [
    "df3[df3['E'].isin(['two', 'four'])]"
   ]
  },
  {
   "cell_type": "code",
   "execution_count": 98,
   "metadata": {},
   "outputs": [
    {
     "output_type": "execute_result",
     "data": {
      "text/plain": [
       "2013-01-02    1\n",
       "2013-01-03    2\n",
       "2013-01-04    3\n",
       "2013-01-05    4\n",
       "2013-01-06    5\n",
       "2013-01-07    6\n",
       "Freq: D, dtype: int64"
      ]
     },
     "metadata": {},
     "execution_count": 98
    }
   ],
   "source": [
    "s1 = pd.Series([1, 2, 3, 4, 5, 6], index=pd.date_range('20130102', periods=6))\n",
    "s1"
   ]
  },
  {
   "cell_type": "code",
   "execution_count": 100,
   "metadata": {},
   "outputs": [
    {
     "output_type": "execute_result",
     "data": {
      "text/plain": [
       "                   A         B         C         D    F\n",
       "2013-01-01  1.083009  1.437408  0.439852  1.011174  NaN\n",
       "2013-01-02 -0.462478 -1.871602 -0.718320 -0.370919  1.0\n",
       "2013-01-03  1.526500 -0.816482  1.378158  0.818494  2.0\n",
       "2013-01-04  0.833699 -0.572579  0.059246  0.790633  3.0\n",
       "2013-01-05 -0.956452  0.435211 -0.206246 -2.286490  4.0\n",
       "2013-01-06  1.243038 -0.158249 -1.536827  1.170956  5.0"
      ],
      "text/html": "<div>\n<style scoped>\n    .dataframe tbody tr th:only-of-type {\n        vertical-align: middle;\n    }\n\n    .dataframe tbody tr th {\n        vertical-align: top;\n    }\n\n    .dataframe thead th {\n        text-align: right;\n    }\n</style>\n<table border=\"1\" class=\"dataframe\">\n  <thead>\n    <tr style=\"text-align: right;\">\n      <th></th>\n      <th>A</th>\n      <th>B</th>\n      <th>C</th>\n      <th>D</th>\n      <th>F</th>\n    </tr>\n  </thead>\n  <tbody>\n    <tr>\n      <th>2013-01-01</th>\n      <td>1.083009</td>\n      <td>1.437408</td>\n      <td>0.439852</td>\n      <td>1.011174</td>\n      <td>NaN</td>\n    </tr>\n    <tr>\n      <th>2013-01-02</th>\n      <td>-0.462478</td>\n      <td>-1.871602</td>\n      <td>-0.718320</td>\n      <td>-0.370919</td>\n      <td>1.0</td>\n    </tr>\n    <tr>\n      <th>2013-01-03</th>\n      <td>1.526500</td>\n      <td>-0.816482</td>\n      <td>1.378158</td>\n      <td>0.818494</td>\n      <td>2.0</td>\n    </tr>\n    <tr>\n      <th>2013-01-04</th>\n      <td>0.833699</td>\n      <td>-0.572579</td>\n      <td>0.059246</td>\n      <td>0.790633</td>\n      <td>3.0</td>\n    </tr>\n    <tr>\n      <th>2013-01-05</th>\n      <td>-0.956452</td>\n      <td>0.435211</td>\n      <td>-0.206246</td>\n      <td>-2.286490</td>\n      <td>4.0</td>\n    </tr>\n    <tr>\n      <th>2013-01-06</th>\n      <td>1.243038</td>\n      <td>-0.158249</td>\n      <td>-1.536827</td>\n      <td>1.170956</td>\n      <td>5.0</td>\n    </tr>\n  </tbody>\n</table>\n</div>"
     },
     "metadata": {},
     "execution_count": 100
    }
   ],
   "source": [
    "df['F'] = s1\n",
    "df"
   ]
  },
  {
   "cell_type": "code",
   "execution_count": 103,
   "metadata": {},
   "outputs": [
    {
     "output_type": "execute_result",
     "data": {
      "text/plain": [
       "                   A         B         C         D    F\n",
       "2013-01-01  0.000000  1.437408  0.439852  1.011174  NaN\n",
       "2013-01-02 -0.462478 -1.871602 -0.718320 -0.370919  1.0\n",
       "2013-01-03  1.526500 -0.816482  1.378158  0.818494  2.0\n",
       "2013-01-04  0.833699 -0.572579  0.059246  0.790633  3.0\n",
       "2013-01-05 -0.956452  0.435211 -0.206246 -2.286490  4.0\n",
       "2013-01-06  1.243038 -0.158249 -1.536827  1.170956  5.0"
      ],
      "text/html": "<div>\n<style scoped>\n    .dataframe tbody tr th:only-of-type {\n        vertical-align: middle;\n    }\n\n    .dataframe tbody tr th {\n        vertical-align: top;\n    }\n\n    .dataframe thead th {\n        text-align: right;\n    }\n</style>\n<table border=\"1\" class=\"dataframe\">\n  <thead>\n    <tr style=\"text-align: right;\">\n      <th></th>\n      <th>A</th>\n      <th>B</th>\n      <th>C</th>\n      <th>D</th>\n      <th>F</th>\n    </tr>\n  </thead>\n  <tbody>\n    <tr>\n      <th>2013-01-01</th>\n      <td>0.000000</td>\n      <td>1.437408</td>\n      <td>0.439852</td>\n      <td>1.011174</td>\n      <td>NaN</td>\n    </tr>\n    <tr>\n      <th>2013-01-02</th>\n      <td>-0.462478</td>\n      <td>-1.871602</td>\n      <td>-0.718320</td>\n      <td>-0.370919</td>\n      <td>1.0</td>\n    </tr>\n    <tr>\n      <th>2013-01-03</th>\n      <td>1.526500</td>\n      <td>-0.816482</td>\n      <td>1.378158</td>\n      <td>0.818494</td>\n      <td>2.0</td>\n    </tr>\n    <tr>\n      <th>2013-01-04</th>\n      <td>0.833699</td>\n      <td>-0.572579</td>\n      <td>0.059246</td>\n      <td>0.790633</td>\n      <td>3.0</td>\n    </tr>\n    <tr>\n      <th>2013-01-05</th>\n      <td>-0.956452</td>\n      <td>0.435211</td>\n      <td>-0.206246</td>\n      <td>-2.286490</td>\n      <td>4.0</td>\n    </tr>\n    <tr>\n      <th>2013-01-06</th>\n      <td>1.243038</td>\n      <td>-0.158249</td>\n      <td>-1.536827</td>\n      <td>1.170956</td>\n      <td>5.0</td>\n    </tr>\n  </tbody>\n</table>\n</div>"
     },
     "metadata": {},
     "execution_count": 103
    }
   ],
   "source": [
    "df.at[dates[0], 'A'] = 0\n",
    "df"
   ]
  },
  {
   "cell_type": "code",
   "execution_count": null,
   "metadata": {},
   "outputs": [],
   "source": []
  }
 ]
}