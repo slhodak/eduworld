{
 "metadata": {
  "language_info": {
   "codemirror_mode": {
    "name": "ipython",
    "version": 3
   },
   "file_extension": ".py",
   "mimetype": "text/x-python",
   "name": "python",
   "nbconvert_exporter": "python",
   "pygments_lexer": "ipython3",
   "version": "3.7.2-final"
  },
  "orig_nbformat": 2,
  "kernelspec": {
   "name": "python3",
   "display_name": "Python 3"
  }
 },
 "nbformat": 4,
 "nbformat_minor": 2,
 "cells": [
  {
   "cell_type": "code",
   "execution_count": 1,
   "metadata": {},
   "outputs": [],
   "source": [
    "import pandas as pd"
   ]
  },
  {
   "cell_type": "code",
   "execution_count": 27,
   "metadata": {},
   "outputs": [],
   "source": [
    "states_total = pd.read_csv('/Users/macuser/Documents/Projects/Programming/eduworld/eduworld/src/data/states_gdp_total.csv')"
   ]
  },
  {
   "cell_type": "code",
   "execution_count": 28,
   "metadata": {},
   "outputs": [],
   "source": [
    "df_existing = pd.read_csv('/Users/macuser/Documents/Projects/Programming/eduworld/eduworld/src/data/spending2018/2018_spending_by_state_elementary_secondary.csv')"
   ]
  },
  {
   "cell_type": "code",
   "execution_count": 29,
   "metadata": {},
   "outputs": [
    {
     "output_type": "execute_result",
     "data": {
      "text/plain": [
       "    2018  2018 GDP GeoName State  Total\n",
       "0    NaN       NaN     NaN   NaN    NaN\n",
       "1    NaN       NaN     NaN   NaN    NaN\n",
       "2    NaN       NaN     NaN   NaN    NaN\n",
       "3    NaN       NaN     NaN   NaN    NaN\n",
       "4    NaN       NaN     NaN   NaN    NaN\n",
       "5    NaN       NaN     NaN   NaN    NaN\n",
       "6    NaN       NaN     NaN   NaN    NaN\n",
       "7    NaN       NaN     NaN   NaN    NaN\n",
       "8    NaN       NaN     NaN   NaN    NaN\n",
       "9    NaN       NaN     NaN   NaN    NaN\n",
       "10   NaN       NaN     NaN   NaN    NaN\n",
       "11   NaN       NaN     NaN   NaN    NaN\n",
       "12   NaN       NaN     NaN   NaN    NaN\n",
       "13   NaN       NaN     NaN   NaN    NaN\n",
       "14   NaN       NaN     NaN   NaN    NaN\n",
       "15   NaN       NaN     NaN   NaN    NaN\n",
       "16   NaN       NaN     NaN   NaN    NaN\n",
       "17   NaN       NaN     NaN   NaN    NaN\n",
       "18   NaN       NaN     NaN   NaN    NaN\n",
       "19   NaN       NaN     NaN   NaN    NaN\n",
       "20   NaN       NaN     NaN   NaN    NaN\n",
       "21   NaN       NaN     NaN   NaN    NaN\n",
       "22   NaN       NaN     NaN   NaN    NaN\n",
       "23   NaN       NaN     NaN   NaN    NaN\n",
       "24   NaN       NaN     NaN   NaN    NaN\n",
       "25   NaN       NaN     NaN   NaN    NaN\n",
       "26   NaN       NaN     NaN   NaN    NaN\n",
       "27   NaN       NaN     NaN   NaN    NaN\n",
       "28   NaN       NaN     NaN   NaN    NaN\n",
       "29   NaN       NaN     NaN   NaN    NaN\n",
       "30   NaN       NaN     NaN   NaN    NaN\n",
       "31   NaN       NaN     NaN   NaN    NaN\n",
       "32   NaN       NaN     NaN   NaN    NaN\n",
       "33   NaN       NaN     NaN   NaN    NaN\n",
       "34   NaN       NaN     NaN   NaN    NaN\n",
       "35   NaN       NaN     NaN   NaN    NaN\n",
       "36   NaN       NaN     NaN   NaN    NaN\n",
       "37   NaN       NaN     NaN   NaN    NaN\n",
       "38   NaN       NaN     NaN   NaN    NaN\n",
       "39   NaN       NaN     NaN   NaN    NaN\n",
       "40   NaN       NaN     NaN   NaN    NaN\n",
       "41   NaN       NaN     NaN   NaN    NaN\n",
       "42   NaN       NaN     NaN   NaN    NaN\n",
       "43   NaN       NaN     NaN   NaN    NaN\n",
       "44   NaN       NaN     NaN   NaN    NaN\n",
       "45   NaN       NaN     NaN   NaN    NaN\n",
       "46   NaN       NaN     NaN   NaN    NaN\n",
       "47   NaN       NaN     NaN   NaN    NaN\n",
       "48   NaN       NaN     NaN   NaN    NaN\n",
       "49   NaN       NaN     NaN   NaN    NaN\n",
       "50   NaN       NaN     NaN   NaN    NaN"
      ],
      "text/html": "<div>\n<style scoped>\n    .dataframe tbody tr th:only-of-type {\n        vertical-align: middle;\n    }\n\n    .dataframe tbody tr th {\n        vertical-align: top;\n    }\n\n    .dataframe thead th {\n        text-align: right;\n    }\n</style>\n<table border=\"1\" class=\"dataframe\">\n  <thead>\n    <tr style=\"text-align: right;\">\n      <th></th>\n      <th>2018</th>\n      <th>2018 GDP</th>\n      <th>GeoName</th>\n      <th>State</th>\n      <th>Total</th>\n    </tr>\n  </thead>\n  <tbody>\n    <tr>\n      <th>0</th>\n      <td>NaN</td>\n      <td>NaN</td>\n      <td>NaN</td>\n      <td>NaN</td>\n      <td>NaN</td>\n    </tr>\n    <tr>\n      <th>1</th>\n      <td>NaN</td>\n      <td>NaN</td>\n      <td>NaN</td>\n      <td>NaN</td>\n      <td>NaN</td>\n    </tr>\n    <tr>\n      <th>2</th>\n      <td>NaN</td>\n      <td>NaN</td>\n      <td>NaN</td>\n      <td>NaN</td>\n      <td>NaN</td>\n    </tr>\n    <tr>\n      <th>3</th>\n      <td>NaN</td>\n      <td>NaN</td>\n      <td>NaN</td>\n      <td>NaN</td>\n      <td>NaN</td>\n    </tr>\n    <tr>\n      <th>4</th>\n      <td>NaN</td>\n      <td>NaN</td>\n      <td>NaN</td>\n      <td>NaN</td>\n      <td>NaN</td>\n    </tr>\n    <tr>\n      <th>5</th>\n      <td>NaN</td>\n      <td>NaN</td>\n      <td>NaN</td>\n      <td>NaN</td>\n      <td>NaN</td>\n    </tr>\n    <tr>\n      <th>6</th>\n      <td>NaN</td>\n      <td>NaN</td>\n      <td>NaN</td>\n      <td>NaN</td>\n      <td>NaN</td>\n    </tr>\n    <tr>\n      <th>7</th>\n      <td>NaN</td>\n      <td>NaN</td>\n      <td>NaN</td>\n      <td>NaN</td>\n      <td>NaN</td>\n    </tr>\n    <tr>\n      <th>8</th>\n      <td>NaN</td>\n      <td>NaN</td>\n      <td>NaN</td>\n      <td>NaN</td>\n      <td>NaN</td>\n    </tr>\n    <tr>\n      <th>9</th>\n      <td>NaN</td>\n      <td>NaN</td>\n      <td>NaN</td>\n      <td>NaN</td>\n      <td>NaN</td>\n    </tr>\n    <tr>\n      <th>10</th>\n      <td>NaN</td>\n      <td>NaN</td>\n      <td>NaN</td>\n      <td>NaN</td>\n      <td>NaN</td>\n    </tr>\n    <tr>\n      <th>11</th>\n      <td>NaN</td>\n      <td>NaN</td>\n      <td>NaN</td>\n      <td>NaN</td>\n      <td>NaN</td>\n    </tr>\n    <tr>\n      <th>12</th>\n      <td>NaN</td>\n      <td>NaN</td>\n      <td>NaN</td>\n      <td>NaN</td>\n      <td>NaN</td>\n    </tr>\n    <tr>\n      <th>13</th>\n      <td>NaN</td>\n      <td>NaN</td>\n      <td>NaN</td>\n      <td>NaN</td>\n      <td>NaN</td>\n    </tr>\n    <tr>\n      <th>14</th>\n      <td>NaN</td>\n      <td>NaN</td>\n      <td>NaN</td>\n      <td>NaN</td>\n      <td>NaN</td>\n    </tr>\n    <tr>\n      <th>15</th>\n      <td>NaN</td>\n      <td>NaN</td>\n      <td>NaN</td>\n      <td>NaN</td>\n      <td>NaN</td>\n    </tr>\n    <tr>\n      <th>16</th>\n      <td>NaN</td>\n      <td>NaN</td>\n      <td>NaN</td>\n      <td>NaN</td>\n      <td>NaN</td>\n    </tr>\n    <tr>\n      <th>17</th>\n      <td>NaN</td>\n      <td>NaN</td>\n      <td>NaN</td>\n      <td>NaN</td>\n      <td>NaN</td>\n    </tr>\n    <tr>\n      <th>18</th>\n      <td>NaN</td>\n      <td>NaN</td>\n      <td>NaN</td>\n      <td>NaN</td>\n      <td>NaN</td>\n    </tr>\n    <tr>\n      <th>19</th>\n      <td>NaN</td>\n      <td>NaN</td>\n      <td>NaN</td>\n      <td>NaN</td>\n      <td>NaN</td>\n    </tr>\n    <tr>\n      <th>20</th>\n      <td>NaN</td>\n      <td>NaN</td>\n      <td>NaN</td>\n      <td>NaN</td>\n      <td>NaN</td>\n    </tr>\n    <tr>\n      <th>21</th>\n      <td>NaN</td>\n      <td>NaN</td>\n      <td>NaN</td>\n      <td>NaN</td>\n      <td>NaN</td>\n    </tr>\n    <tr>\n      <th>22</th>\n      <td>NaN</td>\n      <td>NaN</td>\n      <td>NaN</td>\n      <td>NaN</td>\n      <td>NaN</td>\n    </tr>\n    <tr>\n      <th>23</th>\n      <td>NaN</td>\n      <td>NaN</td>\n      <td>NaN</td>\n      <td>NaN</td>\n      <td>NaN</td>\n    </tr>\n    <tr>\n      <th>24</th>\n      <td>NaN</td>\n      <td>NaN</td>\n      <td>NaN</td>\n      <td>NaN</td>\n      <td>NaN</td>\n    </tr>\n    <tr>\n      <th>25</th>\n      <td>NaN</td>\n      <td>NaN</td>\n      <td>NaN</td>\n      <td>NaN</td>\n      <td>NaN</td>\n    </tr>\n    <tr>\n      <th>26</th>\n      <td>NaN</td>\n      <td>NaN</td>\n      <td>NaN</td>\n      <td>NaN</td>\n      <td>NaN</td>\n    </tr>\n    <tr>\n      <th>27</th>\n      <td>NaN</td>\n      <td>NaN</td>\n      <td>NaN</td>\n      <td>NaN</td>\n      <td>NaN</td>\n    </tr>\n    <tr>\n      <th>28</th>\n      <td>NaN</td>\n      <td>NaN</td>\n      <td>NaN</td>\n      <td>NaN</td>\n      <td>NaN</td>\n    </tr>\n    <tr>\n      <th>29</th>\n      <td>NaN</td>\n      <td>NaN</td>\n      <td>NaN</td>\n      <td>NaN</td>\n      <td>NaN</td>\n    </tr>\n    <tr>\n      <th>30</th>\n      <td>NaN</td>\n      <td>NaN</td>\n      <td>NaN</td>\n      <td>NaN</td>\n      <td>NaN</td>\n    </tr>\n    <tr>\n      <th>31</th>\n      <td>NaN</td>\n      <td>NaN</td>\n      <td>NaN</td>\n      <td>NaN</td>\n      <td>NaN</td>\n    </tr>\n    <tr>\n      <th>32</th>\n      <td>NaN</td>\n      <td>NaN</td>\n      <td>NaN</td>\n      <td>NaN</td>\n      <td>NaN</td>\n    </tr>\n    <tr>\n      <th>33</th>\n      <td>NaN</td>\n      <td>NaN</td>\n      <td>NaN</td>\n      <td>NaN</td>\n      <td>NaN</td>\n    </tr>\n    <tr>\n      <th>34</th>\n      <td>NaN</td>\n      <td>NaN</td>\n      <td>NaN</td>\n      <td>NaN</td>\n      <td>NaN</td>\n    </tr>\n    <tr>\n      <th>35</th>\n      <td>NaN</td>\n      <td>NaN</td>\n      <td>NaN</td>\n      <td>NaN</td>\n      <td>NaN</td>\n    </tr>\n    <tr>\n      <th>36</th>\n      <td>NaN</td>\n      <td>NaN</td>\n      <td>NaN</td>\n      <td>NaN</td>\n      <td>NaN</td>\n    </tr>\n    <tr>\n      <th>37</th>\n      <td>NaN</td>\n      <td>NaN</td>\n      <td>NaN</td>\n      <td>NaN</td>\n      <td>NaN</td>\n    </tr>\n    <tr>\n      <th>38</th>\n      <td>NaN</td>\n      <td>NaN</td>\n      <td>NaN</td>\n      <td>NaN</td>\n      <td>NaN</td>\n    </tr>\n    <tr>\n      <th>39</th>\n      <td>NaN</td>\n      <td>NaN</td>\n      <td>NaN</td>\n      <td>NaN</td>\n      <td>NaN</td>\n    </tr>\n    <tr>\n      <th>40</th>\n      <td>NaN</td>\n      <td>NaN</td>\n      <td>NaN</td>\n      <td>NaN</td>\n      <td>NaN</td>\n    </tr>\n    <tr>\n      <th>41</th>\n      <td>NaN</td>\n      <td>NaN</td>\n      <td>NaN</td>\n      <td>NaN</td>\n      <td>NaN</td>\n    </tr>\n    <tr>\n      <th>42</th>\n      <td>NaN</td>\n      <td>NaN</td>\n      <td>NaN</td>\n      <td>NaN</td>\n      <td>NaN</td>\n    </tr>\n    <tr>\n      <th>43</th>\n      <td>NaN</td>\n      <td>NaN</td>\n      <td>NaN</td>\n      <td>NaN</td>\n      <td>NaN</td>\n    </tr>\n    <tr>\n      <th>44</th>\n      <td>NaN</td>\n      <td>NaN</td>\n      <td>NaN</td>\n      <td>NaN</td>\n      <td>NaN</td>\n    </tr>\n    <tr>\n      <th>45</th>\n      <td>NaN</td>\n      <td>NaN</td>\n      <td>NaN</td>\n      <td>NaN</td>\n      <td>NaN</td>\n    </tr>\n    <tr>\n      <th>46</th>\n      <td>NaN</td>\n      <td>NaN</td>\n      <td>NaN</td>\n      <td>NaN</td>\n      <td>NaN</td>\n    </tr>\n    <tr>\n      <th>47</th>\n      <td>NaN</td>\n      <td>NaN</td>\n      <td>NaN</td>\n      <td>NaN</td>\n      <td>NaN</td>\n    </tr>\n    <tr>\n      <th>48</th>\n      <td>NaN</td>\n      <td>NaN</td>\n      <td>NaN</td>\n      <td>NaN</td>\n      <td>NaN</td>\n    </tr>\n    <tr>\n      <th>49</th>\n      <td>NaN</td>\n      <td>NaN</td>\n      <td>NaN</td>\n      <td>NaN</td>\n      <td>NaN</td>\n    </tr>\n    <tr>\n      <th>50</th>\n      <td>NaN</td>\n      <td>NaN</td>\n      <td>NaN</td>\n      <td>NaN</td>\n      <td>NaN</td>\n    </tr>\n  </tbody>\n</table>\n</div>"
     },
     "metadata": {},
     "execution_count": 29
    }
   ],
   "source": [
    "df_existing.add(states_total)"
   ]
  },
  {
   "cell_type": "code",
   "execution_count": 9,
   "metadata": {},
   "outputs": [
    {
     "output_type": "execute_result",
     "data": {
      "text/plain": [
       "   State     Total   2018 GDP\n",
       "0     AL   8155523   221126.3\n",
       "1     AK   2539488    54011.2\n",
       "2     AZ   8656253   346791.9\n",
       "3     AR   5625843   128081.7\n",
       "4     CA  91054455  2968117.6\n",
       "5     CO  11561312   368795.1\n",
       "6     CT  10851095   274179.5\n",
       "7     DE   2098148    74973.3\n",
       "8     FL  29838546  1036323.2\n",
       "9     GA  20988208   588171.7\n",
       "10    HI   3070859    92027.1\n",
       "11    ID   2410373    77004.2\n",
       "12    IL  35033057   864587.3\n",
       "13    IN  11836660   366706.7\n",
       "14    IA   6958710   190150.3\n",
       "15    KS   6907549   167041.9\n",
       "16    KY   8580534   208339.9\n",
       "17    LA   8079072   252117.3\n",
       "18    ME   2877061    64350.7\n",
       "19    MD  14920717   412920.9\n",
       "20    MA  17889700   567254.8\n",
       "21    MI  18975838   528008.4\n",
       "22    MN  13875489   368317.1\n",
       "23    MS   4773606   114107.0\n",
       "24    MO  10864199   317749.3\n",
       "25    MT   2048275    48970.0\n",
       "26    NE   4684483   122966.2\n",
       "27    NV   5045173   165803.4\n",
       "28    NH   3125315    84711.8\n",
       "29    NJ  30480796   624851.9\n",
       "30    NM   3636084    99434.5\n",
       "31    NY  73368427  1676350.2\n",
       "32    NC  15153240   565800.8\n",
       "33    ND   1841875    54714.2\n",
       "34    OH  24805833   676192.5\n",
       "35    OK   6267595   199975.8\n",
       "36    OR   8661035   238683.8\n",
       "37    PA  31531702   788537.8\n",
       "38    RI   2501593    61020.9\n",
       "39    SC  10027593   230354.0\n",
       "40    SD   1655222    51581.1\n",
       "41    TN  10811478   365601.8\n",
       "42    TX  65202332  1775796.5\n",
       "43    UT   5556089   177336.2\n",
       "44    VT   1570861    33725.3\n",
       "45    VA  17367248   534448.8\n",
       "46    WA  18042261   563150.5\n",
       "47    WV   3345139    77477.1\n",
       "48    WI  12465177   336971.5\n",
       "49    WY   1727633    39371.1"
      ],
      "text/html": "<div>\n<style scoped>\n    .dataframe tbody tr th:only-of-type {\n        vertical-align: middle;\n    }\n\n    .dataframe tbody tr th {\n        vertical-align: top;\n    }\n\n    .dataframe thead th {\n        text-align: right;\n    }\n</style>\n<table border=\"1\" class=\"dataframe\">\n  <thead>\n    <tr style=\"text-align: right;\">\n      <th></th>\n      <th>State</th>\n      <th>Total</th>\n      <th>2018 GDP</th>\n    </tr>\n  </thead>\n  <tbody>\n    <tr>\n      <th>0</th>\n      <td>AL</td>\n      <td>8155523</td>\n      <td>221126.3</td>\n    </tr>\n    <tr>\n      <th>1</th>\n      <td>AK</td>\n      <td>2539488</td>\n      <td>54011.2</td>\n    </tr>\n    <tr>\n      <th>2</th>\n      <td>AZ</td>\n      <td>8656253</td>\n      <td>346791.9</td>\n    </tr>\n    <tr>\n      <th>3</th>\n      <td>AR</td>\n      <td>5625843</td>\n      <td>128081.7</td>\n    </tr>\n    <tr>\n      <th>4</th>\n      <td>CA</td>\n      <td>91054455</td>\n      <td>2968117.6</td>\n    </tr>\n    <tr>\n      <th>5</th>\n      <td>CO</td>\n      <td>11561312</td>\n      <td>368795.1</td>\n    </tr>\n    <tr>\n      <th>6</th>\n      <td>CT</td>\n      <td>10851095</td>\n      <td>274179.5</td>\n    </tr>\n    <tr>\n      <th>7</th>\n      <td>DE</td>\n      <td>2098148</td>\n      <td>74973.3</td>\n    </tr>\n    <tr>\n      <th>8</th>\n      <td>FL</td>\n      <td>29838546</td>\n      <td>1036323.2</td>\n    </tr>\n    <tr>\n      <th>9</th>\n      <td>GA</td>\n      <td>20988208</td>\n      <td>588171.7</td>\n    </tr>\n    <tr>\n      <th>10</th>\n      <td>HI</td>\n      <td>3070859</td>\n      <td>92027.1</td>\n    </tr>\n    <tr>\n      <th>11</th>\n      <td>ID</td>\n      <td>2410373</td>\n      <td>77004.2</td>\n    </tr>\n    <tr>\n      <th>12</th>\n      <td>IL</td>\n      <td>35033057</td>\n      <td>864587.3</td>\n    </tr>\n    <tr>\n      <th>13</th>\n      <td>IN</td>\n      <td>11836660</td>\n      <td>366706.7</td>\n    </tr>\n    <tr>\n      <th>14</th>\n      <td>IA</td>\n      <td>6958710</td>\n      <td>190150.3</td>\n    </tr>\n    <tr>\n      <th>15</th>\n      <td>KS</td>\n      <td>6907549</td>\n      <td>167041.9</td>\n    </tr>\n    <tr>\n      <th>16</th>\n      <td>KY</td>\n      <td>8580534</td>\n      <td>208339.9</td>\n    </tr>\n    <tr>\n      <th>17</th>\n      <td>LA</td>\n      <td>8079072</td>\n      <td>252117.3</td>\n    </tr>\n    <tr>\n      <th>18</th>\n      <td>ME</td>\n      <td>2877061</td>\n      <td>64350.7</td>\n    </tr>\n    <tr>\n      <th>19</th>\n      <td>MD</td>\n      <td>14920717</td>\n      <td>412920.9</td>\n    </tr>\n    <tr>\n      <th>20</th>\n      <td>MA</td>\n      <td>17889700</td>\n      <td>567254.8</td>\n    </tr>\n    <tr>\n      <th>21</th>\n      <td>MI</td>\n      <td>18975838</td>\n      <td>528008.4</td>\n    </tr>\n    <tr>\n      <th>22</th>\n      <td>MN</td>\n      <td>13875489</td>\n      <td>368317.1</td>\n    </tr>\n    <tr>\n      <th>23</th>\n      <td>MS</td>\n      <td>4773606</td>\n      <td>114107.0</td>\n    </tr>\n    <tr>\n      <th>24</th>\n      <td>MO</td>\n      <td>10864199</td>\n      <td>317749.3</td>\n    </tr>\n    <tr>\n      <th>25</th>\n      <td>MT</td>\n      <td>2048275</td>\n      <td>48970.0</td>\n    </tr>\n    <tr>\n      <th>26</th>\n      <td>NE</td>\n      <td>4684483</td>\n      <td>122966.2</td>\n    </tr>\n    <tr>\n      <th>27</th>\n      <td>NV</td>\n      <td>5045173</td>\n      <td>165803.4</td>\n    </tr>\n    <tr>\n      <th>28</th>\n      <td>NH</td>\n      <td>3125315</td>\n      <td>84711.8</td>\n    </tr>\n    <tr>\n      <th>29</th>\n      <td>NJ</td>\n      <td>30480796</td>\n      <td>624851.9</td>\n    </tr>\n    <tr>\n      <th>30</th>\n      <td>NM</td>\n      <td>3636084</td>\n      <td>99434.5</td>\n    </tr>\n    <tr>\n      <th>31</th>\n      <td>NY</td>\n      <td>73368427</td>\n      <td>1676350.2</td>\n    </tr>\n    <tr>\n      <th>32</th>\n      <td>NC</td>\n      <td>15153240</td>\n      <td>565800.8</td>\n    </tr>\n    <tr>\n      <th>33</th>\n      <td>ND</td>\n      <td>1841875</td>\n      <td>54714.2</td>\n    </tr>\n    <tr>\n      <th>34</th>\n      <td>OH</td>\n      <td>24805833</td>\n      <td>676192.5</td>\n    </tr>\n    <tr>\n      <th>35</th>\n      <td>OK</td>\n      <td>6267595</td>\n      <td>199975.8</td>\n    </tr>\n    <tr>\n      <th>36</th>\n      <td>OR</td>\n      <td>8661035</td>\n      <td>238683.8</td>\n    </tr>\n    <tr>\n      <th>37</th>\n      <td>PA</td>\n      <td>31531702</td>\n      <td>788537.8</td>\n    </tr>\n    <tr>\n      <th>38</th>\n      <td>RI</td>\n      <td>2501593</td>\n      <td>61020.9</td>\n    </tr>\n    <tr>\n      <th>39</th>\n      <td>SC</td>\n      <td>10027593</td>\n      <td>230354.0</td>\n    </tr>\n    <tr>\n      <th>40</th>\n      <td>SD</td>\n      <td>1655222</td>\n      <td>51581.1</td>\n    </tr>\n    <tr>\n      <th>41</th>\n      <td>TN</td>\n      <td>10811478</td>\n      <td>365601.8</td>\n    </tr>\n    <tr>\n      <th>42</th>\n      <td>TX</td>\n      <td>65202332</td>\n      <td>1775796.5</td>\n    </tr>\n    <tr>\n      <th>43</th>\n      <td>UT</td>\n      <td>5556089</td>\n      <td>177336.2</td>\n    </tr>\n    <tr>\n      <th>44</th>\n      <td>VT</td>\n      <td>1570861</td>\n      <td>33725.3</td>\n    </tr>\n    <tr>\n      <th>45</th>\n      <td>VA</td>\n      <td>17367248</td>\n      <td>534448.8</td>\n    </tr>\n    <tr>\n      <th>46</th>\n      <td>WA</td>\n      <td>18042261</td>\n      <td>563150.5</td>\n    </tr>\n    <tr>\n      <th>47</th>\n      <td>WV</td>\n      <td>3345139</td>\n      <td>77477.1</td>\n    </tr>\n    <tr>\n      <th>48</th>\n      <td>WI</td>\n      <td>12465177</td>\n      <td>336971.5</td>\n    </tr>\n    <tr>\n      <th>49</th>\n      <td>WY</td>\n      <td>1727633</td>\n      <td>39371.1</td>\n    </tr>\n  </tbody>\n</table>\n</div>"
     },
     "metadata": {},
     "execution_count": 9
    }
   ],
   "source": [
    "df_existing"
   ]
  },
  {
   "cell_type": "code",
   "execution_count": 32,
   "metadata": {},
   "outputs": [],
   "source": [
    "file = open('/Users/macuser/Documents/Projects/Programming/eduworld/eduworld/src/data/states_gdp_total.csv','w')\n",
    "file.write(df_existing.to_csv())\n",
    "file.close()"
   ]
  },
  {
   "cell_type": "code",
   "execution_count": null,
   "metadata": {},
   "outputs": [],
   "source": []
  }
 ]
}