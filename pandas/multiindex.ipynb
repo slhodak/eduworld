{
 "metadata": {
  "language_info": {
   "codemirror_mode": {
    "name": "ipython",
    "version": 3
   },
   "file_extension": ".py",
   "mimetype": "text/x-python",
   "name": "python",
   "nbconvert_exporter": "python",
   "pygments_lexer": "ipython3",
   "version": "3.8.5-final"
  },
  "orig_nbformat": 2,
  "kernelspec": {
   "name": "python3",
   "display_name": "Python 3"
  }
 },
 "nbformat": 4,
 "nbformat_minor": 2,
 "cells": [
  {
   "cell_type": "code",
   "execution_count": 2,
   "metadata": {},
   "outputs": [],
   "source": [
    "import pandas as pd\n",
    "import numpy as np"
   ]
  },
  {
   "cell_type": "code",
   "execution_count": 3,
   "metadata": {},
   "outputs": [
    {
     "output_type": "execute_result",
     "data": {
      "text/plain": [
       "[('bar', 'one'), ('bar', 'two'), ('baz', ' one'), ('baz', 'two')]"
      ]
     },
     "metadata": {},
     "execution_count": 3
    }
   ],
   "source": [
    "arrays = [['bar', 'bar' ,'baz','baz'],\n",
    "          ['one', 'two',' one', 'two']]\n",
    "tuples = list(zip(*arrays))\n",
    "tuples"
   ]
  },
  {
   "cell_type": "code",
   "execution_count": 4,
   "metadata": {},
   "outputs": [],
   "source": [
    "index = pd.MultiIndex.from_tuples(tuples, names=['first', 'second'])"
   ]
  },
  {
   "cell_type": "code",
   "execution_count": 5,
   "metadata": {},
   "outputs": [
    {
     "output_type": "execute_result",
     "data": {
      "text/plain": [
       "first  second\n",
       "bar    one      -0.863305\n",
       "       two      -0.916059\n",
       "baz     one     -0.889569\n",
       "       two       0.690042\n",
       "dtype: float64"
      ]
     },
     "metadata": {},
     "execution_count": 5
    }
   ],
   "source": [
    "s = pd.Series(np.random.randn(4), index=index)\n",
    "s"
   ]
  },
  {
   "cell_type": "code",
   "execution_count": 6,
   "metadata": {},
   "outputs": [
    {
     "output_type": "execute_result",
     "data": {
      "text/plain": [
       "MultiIndex([('bar', 'one'),\n",
       "            ('bar', 'two'),\n",
       "            ('foo', 'one'),\n",
       "            ('foo', 'two')],\n",
       "           names=['first', 'second'])"
      ]
     },
     "metadata": {},
     "execution_count": 6
    }
   ],
   "source": [
    "df = pd.DataFrame([['bar', 'one'], ['bar', 'two'],\n",
    "                   ['foo', 'one'], ['foo', 'two']],\n",
    "                   columns=['first', 'second'])\n",
    "pd.MultiIndex.from_frame(df)"
   ]
  },
  {
   "cell_type": "code",
   "execution_count": 7,
   "metadata": {},
   "outputs": [
    {
     "output_type": "execute_result",
     "data": {
      "text/plain": [
       "                     Primary schools Primary schools.1  Middle schools  \\\n",
       "State                 Self-contained  Departmentalized  Self-contained   \n",
       "United States                   20.9              26.2            16.6   \n",
       "Alabama                         19.9              25.1             8.1   \n",
       "Alaska                          21.6              22.9            11.9   \n",
       "Arizona                         23.9              29.5            11.0   \n",
       "Arkansas                        20.4              26.9            11.0   \n",
       "California                      24.2              29.2            22.3   \n",
       "Colorado                        22.8              23.1            21.0   \n",
       "Connecticut                     19.4              22.9               ‡   \n",
       "Delaware                        19.8              26.8            14.3   \n",
       "District of Columbia               ‡                 ‡               ‡   \n",
       "Florida                         18.9              24.7            14.7   \n",
       "Georgia                         19.3              30.7            11.9   \n",
       "Hawaii                          20.6              29.8            11.9   \n",
       "Idaho                           23.5              24.4            19.6   \n",
       "Illinois                        21.8              25.5            21.3   \n",
       "Indiana                         21.8              30.8            11.2   \n",
       "Iowa                            20.8              22.0            17.5   \n",
       "Kansas                          19.7              21.8            34.1   \n",
       "Kentucky                        20.7              23.6               #   \n",
       "Louisian                        17.9              25.5               ‡   \n",
       "Maine                           17.8              17.2             8.6   \n",
       "Maryland                           ‡                 ‡               ‡   \n",
       "Massachusetts                   19.7              21.8            11.3   \n",
       "Michigan                        23.7              33.5            14.2   \n",
       "Minnesota                       22.4              26.0            22.1   \n",
       "Mississippi                     20.7              17.9             4.7   \n",
       "Missouri                        20.2              26.1            12.0   \n",
       "Montana                         18.5              24.7            14.3   \n",
       "Nebraska                        18.9              19.7            13.8   \n",
       "Nevada                          22.5              28.9             7.1   \n",
       "New Hampshire                   20.1              21.8            26.1   \n",
       "New Jersey                      18.5              24.9            16.9   \n",
       "New Mexico                      19.1              24.6            12.8   \n",
       "New York                        20.2              25.0            17.0   \n",
       "North Carolina                  19.6              24.1               ‡   \n",
       "North Dakota                    19.3              20.4            41.8   \n",
       "Ohio                            20.9              24.1            12.8   \n",
       "Oklahoma                        21.9              22.5             8.4   \n",
       "Oregon                          24.5              22.3            10.0   \n",
       "Pennsylvania                    20.6              24.7            10.4   \n",
       "Rhode Island                    20.3              23.8            13.7   \n",
       "South Carolina                  20.4              32.9            10.6   \n",
       "South Dakota                    20.0              16.0             6.8   \n",
       "Tennessee                       19.2              24.9            13.8   \n",
       "Texas                           18.9              30.3            20.3   \n",
       "Utah                            24.4              38.5            24.1   \n",
       "Vermont                         16.4              20.1               #   \n",
       "Virginia                        19.3              23.9               ‡   \n",
       "Washington                      21.3              28.3            16.1   \n",
       "West Virginia                   19.9              25.9            11.6   \n",
       "Wisconsin                       20.3              24.9            11.2   \n",
       "Wyoming                         18.3              22.0             4.7   \n",
       "\n",
       "                      Middle schools.1    High schools    High schools.1  \\\n",
       "State                 Departmentalized  Self-contained  Departmentalized   \n",
       "United States                     24.9            16.3              23.3   \n",
       "Alabama                           27.6            27.3              22.3   \n",
       "Alaska                            24.8               ‡              18.4   \n",
       "Arizona                           26.2            21.9              25.4   \n",
       "Arkansas                          26.4            17.5              20.4   \n",
       "California                        31.1            18.3              29.3   \n",
       "Colorado                          25.8            18.4              24.3   \n",
       "Connecticut                       20.7            14.5              21.5   \n",
       "Delaware                          25.7             7.0              22.5   \n",
       "District of Columbia                 ‡               ‡                 ‡   \n",
       "Florida                           24.8            17.6              26.0   \n",
       "Georgia                           26.4            18.7              25.2   \n",
       "Hawaii                            24.5            10.2              23.8   \n",
       "Idaho                             26.0            11.1              23.5   \n",
       "Illinois                          26.0            13.6              22.4   \n",
       "Indiana                           26.2            15.3              23.7   \n",
       "Iowa                              28.4            13.7              23.0   \n",
       "Kansas                            22.3            15.9              19.8   \n",
       "Kentucky                          26.1            11.6              21.8   \n",
       "Louisian                          20.4            15.5              20.9   \n",
       "Maine                             19.0             7.7              15.3   \n",
       "Maryland                             ‡               ‡                 ‡   \n",
       "Massachusetts                     22.9            11.1              20.9   \n",
       "Michigan                          27.4            28.3              26.4   \n",
       "Minnesota                         27.3            16.0              24.7   \n",
       "Mississippi                       21.0             6.9              20.8   \n",
       "Missouri                          20.7            15.0              22.5   \n",
       "Montana                           24.3            16.5              19.7   \n",
       "Nebraska                          21.2            11.3              18.2   \n",
       "Nevada                            31.9            13.7              28.8   \n",
       "New Hampshire                     19.3            15.6              17.0   \n",
       "New Jersey                        22.5            11.3              20.6   \n",
       "New Mexico                        20.8            16.6              20.5   \n",
       "New York                          22.7            12.0              22.0   \n",
       "North Carolina                    24.6            15.4              20.8   \n",
       "North Dakota                      20.2             9.9              19.3   \n",
       "Ohio                              25.3            14.8              20.7   \n",
       "Oklahoma                          22.5            17.4              23.8   \n",
       "Oregon                            27.8            25.9              25.9   \n",
       "Pennsylvania                      23.3            20.3              22.0   \n",
       "Rhode Island                      24.9            10.7              21.0   \n",
       "South Carolina                    21.9            16.4              22.0   \n",
       "South Dakota                      27.4            14.3              21.2   \n",
       "Tennessee                         26.1            22.4              21.8   \n",
       "Texas                             22.9            15.8              22.7   \n",
       "Utah                              28.9            16.3              28.1   \n",
       "Vermont                           19.1            17.0              14.7   \n",
       "Virginia                          25.0            13.5              21.0   \n",
       "Washington                        26.8            15.8              23.9   \n",
       "West Virginia                     23.8            15.9              20.5   \n",
       "Wisconsin                         26.1            17.9              23.5   \n",
       "Wyoming                           21.7            16.6              18.6   \n",
       "\n",
       "                     Combined grade schools Combined grade schools.1  \n",
       "State                        Self-contained         Departmentalized  \n",
       "United States                          15.6                     18.6  \n",
       "Alabama                                15.2                     20.9  \n",
       "Alaska                                 13.3                     10.3  \n",
       "Arizona                                20.4                     21.9  \n",
       "Arkansas                               16.6                     15.8  \n",
       "California                             19.0                     22.7  \n",
       "Colorado                               19.5                     18.8  \n",
       "Connecticut                            18.0                     12.9  \n",
       "Delaware                                5.3                     22.9  \n",
       "District of Columbia                      ‡                        ‡  \n",
       "Florida                                17.2                     22.6  \n",
       "Georgia                                   ‡                     19.6  \n",
       "Hawaii                                 19.1                     18.5  \n",
       "Idaho                                  15.3                     17.3  \n",
       "Illinois                               11.7                     16.1  \n",
       "Indiana                                 7.5                     19.2  \n",
       "Iowa                                   17.1                     15.7  \n",
       "Kansas                                 26.3                     13.4  \n",
       "Kentucky                               12.0                     25.1  \n",
       "Louisian                               16.4                     19.9  \n",
       "Maine                                  12.6                     18.0  \n",
       "Maryland                                  ‡                        ‡  \n",
       "Massachusetts                          24.2                     23.2  \n",
       "Michigan                               13.9                     19.6  \n",
       "Minnesota                              14.6                     21.6  \n",
       "Mississippi                            14.8                     18.7  \n",
       "Missouri                               16.0                     17.7  \n",
       "Montana                                11.9                     10.0  \n",
       "Nebraska                               15.4                     13.5  \n",
       "Nevada                                 16.1                     17.3  \n",
       "New Hampshire                          19.0                     15.5  \n",
       "New Jersey                             12.4                     21.4  \n",
       "New Mexico                             15.7                     15.7  \n",
       "New York                               10.9                     18.0  \n",
       "North Carolina                         21.8                     22.1  \n",
       "North Dakota                           14.7                     15.4  \n",
       "Ohio                                   19.5                     16.8  \n",
       "Oklahoma                               15.5                     18.2  \n",
       "Oregon                                 13.8                     19.1  \n",
       "Pennsylvania                           25.8                     20.8  \n",
       "Rhode Island                           18.0                     19.4  \n",
       "South Carolina                          7.0                     19.8  \n",
       "South Dakota                           14.6                     17.1  \n",
       "Tennessee                              10.9                     20.7  \n",
       "Texas                                  14.6                     17.0  \n",
       "Utah                                   22.5                     21.8  \n",
       "Vermont                                17.0                     12.8  \n",
       "Virginia                                7.6                      8.3  \n",
       "Washington                             11.2                     16.1  \n",
       "West Virginia                          12.5                      8.5  \n",
       "Wisconsin                              18.1                     17.9  \n",
       "Wyoming                                12.0                     15.2  "
      ],
      "text/html": "<div>\n<style scoped>\n    .dataframe tbody tr th:only-of-type {\n        vertical-align: middle;\n    }\n\n    .dataframe tbody tr th {\n        vertical-align: top;\n    }\n\n    .dataframe thead th {\n        text-align: right;\n    }\n</style>\n<table border=\"1\" class=\"dataframe\">\n  <thead>\n    <tr style=\"text-align: right;\">\n      <th></th>\n      <th>Primary schools</th>\n      <th>Primary schools.1</th>\n      <th>Middle schools</th>\n      <th>Middle schools.1</th>\n      <th>High schools</th>\n      <th>High schools.1</th>\n      <th>Combined grade schools</th>\n      <th>Combined grade schools.1</th>\n    </tr>\n  </thead>\n  <tbody>\n    <tr>\n      <th>State</th>\n      <td>Self-contained</td>\n      <td>Departmentalized</td>\n      <td>Self-contained</td>\n      <td>Departmentalized</td>\n      <td>Self-contained</td>\n      <td>Departmentalized</td>\n      <td>Self-contained</td>\n      <td>Departmentalized</td>\n    </tr>\n    <tr>\n      <th>United States</th>\n      <td>20.9</td>\n      <td>26.2</td>\n      <td>16.6</td>\n      <td>24.9</td>\n      <td>16.3</td>\n      <td>23.3</td>\n      <td>15.6</td>\n      <td>18.6</td>\n    </tr>\n    <tr>\n      <th>Alabama</th>\n      <td>19.9</td>\n      <td>25.1</td>\n      <td>8.1</td>\n      <td>27.6</td>\n      <td>27.3</td>\n      <td>22.3</td>\n      <td>15.2</td>\n      <td>20.9</td>\n    </tr>\n    <tr>\n      <th>Alaska</th>\n      <td>21.6</td>\n      <td>22.9</td>\n      <td>11.9</td>\n      <td>24.8</td>\n      <td>‡</td>\n      <td>18.4</td>\n      <td>13.3</td>\n      <td>10.3</td>\n    </tr>\n    <tr>\n      <th>Arizona</th>\n      <td>23.9</td>\n      <td>29.5</td>\n      <td>11.0</td>\n      <td>26.2</td>\n      <td>21.9</td>\n      <td>25.4</td>\n      <td>20.4</td>\n      <td>21.9</td>\n    </tr>\n    <tr>\n      <th>Arkansas</th>\n      <td>20.4</td>\n      <td>26.9</td>\n      <td>11.0</td>\n      <td>26.4</td>\n      <td>17.5</td>\n      <td>20.4</td>\n      <td>16.6</td>\n      <td>15.8</td>\n    </tr>\n    <tr>\n      <th>California</th>\n      <td>24.2</td>\n      <td>29.2</td>\n      <td>22.3</td>\n      <td>31.1</td>\n      <td>18.3</td>\n      <td>29.3</td>\n      <td>19.0</td>\n      <td>22.7</td>\n    </tr>\n    <tr>\n      <th>Colorado</th>\n      <td>22.8</td>\n      <td>23.1</td>\n      <td>21.0</td>\n      <td>25.8</td>\n      <td>18.4</td>\n      <td>24.3</td>\n      <td>19.5</td>\n      <td>18.8</td>\n    </tr>\n    <tr>\n      <th>Connecticut</th>\n      <td>19.4</td>\n      <td>22.9</td>\n      <td>‡</td>\n      <td>20.7</td>\n      <td>14.5</td>\n      <td>21.5</td>\n      <td>18.0</td>\n      <td>12.9</td>\n    </tr>\n    <tr>\n      <th>Delaware</th>\n      <td>19.8</td>\n      <td>26.8</td>\n      <td>14.3</td>\n      <td>25.7</td>\n      <td>7.0</td>\n      <td>22.5</td>\n      <td>5.3</td>\n      <td>22.9</td>\n    </tr>\n    <tr>\n      <th>District of Columbia</th>\n      <td>‡</td>\n      <td>‡</td>\n      <td>‡</td>\n      <td>‡</td>\n      <td>‡</td>\n      <td>‡</td>\n      <td>‡</td>\n      <td>‡</td>\n    </tr>\n    <tr>\n      <th>Florida</th>\n      <td>18.9</td>\n      <td>24.7</td>\n      <td>14.7</td>\n      <td>24.8</td>\n      <td>17.6</td>\n      <td>26.0</td>\n      <td>17.2</td>\n      <td>22.6</td>\n    </tr>\n    <tr>\n      <th>Georgia</th>\n      <td>19.3</td>\n      <td>30.7</td>\n      <td>11.9</td>\n      <td>26.4</td>\n      <td>18.7</td>\n      <td>25.2</td>\n      <td>‡</td>\n      <td>19.6</td>\n    </tr>\n    <tr>\n      <th>Hawaii</th>\n      <td>20.6</td>\n      <td>29.8</td>\n      <td>11.9</td>\n      <td>24.5</td>\n      <td>10.2</td>\n      <td>23.8</td>\n      <td>19.1</td>\n      <td>18.5</td>\n    </tr>\n    <tr>\n      <th>Idaho</th>\n      <td>23.5</td>\n      <td>24.4</td>\n      <td>19.6</td>\n      <td>26.0</td>\n      <td>11.1</td>\n      <td>23.5</td>\n      <td>15.3</td>\n      <td>17.3</td>\n    </tr>\n    <tr>\n      <th>Illinois</th>\n      <td>21.8</td>\n      <td>25.5</td>\n      <td>21.3</td>\n      <td>26.0</td>\n      <td>13.6</td>\n      <td>22.4</td>\n      <td>11.7</td>\n      <td>16.1</td>\n    </tr>\n    <tr>\n      <th>Indiana</th>\n      <td>21.8</td>\n      <td>30.8</td>\n      <td>11.2</td>\n      <td>26.2</td>\n      <td>15.3</td>\n      <td>23.7</td>\n      <td>7.5</td>\n      <td>19.2</td>\n    </tr>\n    <tr>\n      <th>Iowa</th>\n      <td>20.8</td>\n      <td>22.0</td>\n      <td>17.5</td>\n      <td>28.4</td>\n      <td>13.7</td>\n      <td>23.0</td>\n      <td>17.1</td>\n      <td>15.7</td>\n    </tr>\n    <tr>\n      <th>Kansas</th>\n      <td>19.7</td>\n      <td>21.8</td>\n      <td>34.1</td>\n      <td>22.3</td>\n      <td>15.9</td>\n      <td>19.8</td>\n      <td>26.3</td>\n      <td>13.4</td>\n    </tr>\n    <tr>\n      <th>Kentucky</th>\n      <td>20.7</td>\n      <td>23.6</td>\n      <td>#</td>\n      <td>26.1</td>\n      <td>11.6</td>\n      <td>21.8</td>\n      <td>12.0</td>\n      <td>25.1</td>\n    </tr>\n    <tr>\n      <th>Louisian</th>\n      <td>17.9</td>\n      <td>25.5</td>\n      <td>‡</td>\n      <td>20.4</td>\n      <td>15.5</td>\n      <td>20.9</td>\n      <td>16.4</td>\n      <td>19.9</td>\n    </tr>\n    <tr>\n      <th>Maine</th>\n      <td>17.8</td>\n      <td>17.2</td>\n      <td>8.6</td>\n      <td>19.0</td>\n      <td>7.7</td>\n      <td>15.3</td>\n      <td>12.6</td>\n      <td>18.0</td>\n    </tr>\n    <tr>\n      <th>Maryland</th>\n      <td>‡</td>\n      <td>‡</td>\n      <td>‡</td>\n      <td>‡</td>\n      <td>‡</td>\n      <td>‡</td>\n      <td>‡</td>\n      <td>‡</td>\n    </tr>\n    <tr>\n      <th>Massachusetts</th>\n      <td>19.7</td>\n      <td>21.8</td>\n      <td>11.3</td>\n      <td>22.9</td>\n      <td>11.1</td>\n      <td>20.9</td>\n      <td>24.2</td>\n      <td>23.2</td>\n    </tr>\n    <tr>\n      <th>Michigan</th>\n      <td>23.7</td>\n      <td>33.5</td>\n      <td>14.2</td>\n      <td>27.4</td>\n      <td>28.3</td>\n      <td>26.4</td>\n      <td>13.9</td>\n      <td>19.6</td>\n    </tr>\n    <tr>\n      <th>Minnesota</th>\n      <td>22.4</td>\n      <td>26.0</td>\n      <td>22.1</td>\n      <td>27.3</td>\n      <td>16.0</td>\n      <td>24.7</td>\n      <td>14.6</td>\n      <td>21.6</td>\n    </tr>\n    <tr>\n      <th>Mississippi</th>\n      <td>20.7</td>\n      <td>17.9</td>\n      <td>4.7</td>\n      <td>21.0</td>\n      <td>6.9</td>\n      <td>20.8</td>\n      <td>14.8</td>\n      <td>18.7</td>\n    </tr>\n    <tr>\n      <th>Missouri</th>\n      <td>20.2</td>\n      <td>26.1</td>\n      <td>12.0</td>\n      <td>20.7</td>\n      <td>15.0</td>\n      <td>22.5</td>\n      <td>16.0</td>\n      <td>17.7</td>\n    </tr>\n    <tr>\n      <th>Montana</th>\n      <td>18.5</td>\n      <td>24.7</td>\n      <td>14.3</td>\n      <td>24.3</td>\n      <td>16.5</td>\n      <td>19.7</td>\n      <td>11.9</td>\n      <td>10.0</td>\n    </tr>\n    <tr>\n      <th>Nebraska</th>\n      <td>18.9</td>\n      <td>19.7</td>\n      <td>13.8</td>\n      <td>21.2</td>\n      <td>11.3</td>\n      <td>18.2</td>\n      <td>15.4</td>\n      <td>13.5</td>\n    </tr>\n    <tr>\n      <th>Nevada</th>\n      <td>22.5</td>\n      <td>28.9</td>\n      <td>7.1</td>\n      <td>31.9</td>\n      <td>13.7</td>\n      <td>28.8</td>\n      <td>16.1</td>\n      <td>17.3</td>\n    </tr>\n    <tr>\n      <th>New Hampshire</th>\n      <td>20.1</td>\n      <td>21.8</td>\n      <td>26.1</td>\n      <td>19.3</td>\n      <td>15.6</td>\n      <td>17.0</td>\n      <td>19.0</td>\n      <td>15.5</td>\n    </tr>\n    <tr>\n      <th>New Jersey</th>\n      <td>18.5</td>\n      <td>24.9</td>\n      <td>16.9</td>\n      <td>22.5</td>\n      <td>11.3</td>\n      <td>20.6</td>\n      <td>12.4</td>\n      <td>21.4</td>\n    </tr>\n    <tr>\n      <th>New Mexico</th>\n      <td>19.1</td>\n      <td>24.6</td>\n      <td>12.8</td>\n      <td>20.8</td>\n      <td>16.6</td>\n      <td>20.5</td>\n      <td>15.7</td>\n      <td>15.7</td>\n    </tr>\n    <tr>\n      <th>New York</th>\n      <td>20.2</td>\n      <td>25.0</td>\n      <td>17.0</td>\n      <td>22.7</td>\n      <td>12.0</td>\n      <td>22.0</td>\n      <td>10.9</td>\n      <td>18.0</td>\n    </tr>\n    <tr>\n      <th>North Carolina</th>\n      <td>19.6</td>\n      <td>24.1</td>\n      <td>‡</td>\n      <td>24.6</td>\n      <td>15.4</td>\n      <td>20.8</td>\n      <td>21.8</td>\n      <td>22.1</td>\n    </tr>\n    <tr>\n      <th>North Dakota</th>\n      <td>19.3</td>\n      <td>20.4</td>\n      <td>41.8</td>\n      <td>20.2</td>\n      <td>9.9</td>\n      <td>19.3</td>\n      <td>14.7</td>\n      <td>15.4</td>\n    </tr>\n    <tr>\n      <th>Ohio</th>\n      <td>20.9</td>\n      <td>24.1</td>\n      <td>12.8</td>\n      <td>25.3</td>\n      <td>14.8</td>\n      <td>20.7</td>\n      <td>19.5</td>\n      <td>16.8</td>\n    </tr>\n    <tr>\n      <th>Oklahoma</th>\n      <td>21.9</td>\n      <td>22.5</td>\n      <td>8.4</td>\n      <td>22.5</td>\n      <td>17.4</td>\n      <td>23.8</td>\n      <td>15.5</td>\n      <td>18.2</td>\n    </tr>\n    <tr>\n      <th>Oregon</th>\n      <td>24.5</td>\n      <td>22.3</td>\n      <td>10.0</td>\n      <td>27.8</td>\n      <td>25.9</td>\n      <td>25.9</td>\n      <td>13.8</td>\n      <td>19.1</td>\n    </tr>\n    <tr>\n      <th>Pennsylvania</th>\n      <td>20.6</td>\n      <td>24.7</td>\n      <td>10.4</td>\n      <td>23.3</td>\n      <td>20.3</td>\n      <td>22.0</td>\n      <td>25.8</td>\n      <td>20.8</td>\n    </tr>\n    <tr>\n      <th>Rhode Island</th>\n      <td>20.3</td>\n      <td>23.8</td>\n      <td>13.7</td>\n      <td>24.9</td>\n      <td>10.7</td>\n      <td>21.0</td>\n      <td>18.0</td>\n      <td>19.4</td>\n    </tr>\n    <tr>\n      <th>South Carolina</th>\n      <td>20.4</td>\n      <td>32.9</td>\n      <td>10.6</td>\n      <td>21.9</td>\n      <td>16.4</td>\n      <td>22.0</td>\n      <td>7.0</td>\n      <td>19.8</td>\n    </tr>\n    <tr>\n      <th>South Dakota</th>\n      <td>20.0</td>\n      <td>16.0</td>\n      <td>6.8</td>\n      <td>27.4</td>\n      <td>14.3</td>\n      <td>21.2</td>\n      <td>14.6</td>\n      <td>17.1</td>\n    </tr>\n    <tr>\n      <th>Tennessee</th>\n      <td>19.2</td>\n      <td>24.9</td>\n      <td>13.8</td>\n      <td>26.1</td>\n      <td>22.4</td>\n      <td>21.8</td>\n      <td>10.9</td>\n      <td>20.7</td>\n    </tr>\n    <tr>\n      <th>Texas</th>\n      <td>18.9</td>\n      <td>30.3</td>\n      <td>20.3</td>\n      <td>22.9</td>\n      <td>15.8</td>\n      <td>22.7</td>\n      <td>14.6</td>\n      <td>17.0</td>\n    </tr>\n    <tr>\n      <th>Utah</th>\n      <td>24.4</td>\n      <td>38.5</td>\n      <td>24.1</td>\n      <td>28.9</td>\n      <td>16.3</td>\n      <td>28.1</td>\n      <td>22.5</td>\n      <td>21.8</td>\n    </tr>\n    <tr>\n      <th>Vermont</th>\n      <td>16.4</td>\n      <td>20.1</td>\n      <td>#</td>\n      <td>19.1</td>\n      <td>17.0</td>\n      <td>14.7</td>\n      <td>17.0</td>\n      <td>12.8</td>\n    </tr>\n    <tr>\n      <th>Virginia</th>\n      <td>19.3</td>\n      <td>23.9</td>\n      <td>‡</td>\n      <td>25.0</td>\n      <td>13.5</td>\n      <td>21.0</td>\n      <td>7.6</td>\n      <td>8.3</td>\n    </tr>\n    <tr>\n      <th>Washington</th>\n      <td>21.3</td>\n      <td>28.3</td>\n      <td>16.1</td>\n      <td>26.8</td>\n      <td>15.8</td>\n      <td>23.9</td>\n      <td>11.2</td>\n      <td>16.1</td>\n    </tr>\n    <tr>\n      <th>West Virginia</th>\n      <td>19.9</td>\n      <td>25.9</td>\n      <td>11.6</td>\n      <td>23.8</td>\n      <td>15.9</td>\n      <td>20.5</td>\n      <td>12.5</td>\n      <td>8.5</td>\n    </tr>\n    <tr>\n      <th>Wisconsin</th>\n      <td>20.3</td>\n      <td>24.9</td>\n      <td>11.2</td>\n      <td>26.1</td>\n      <td>17.9</td>\n      <td>23.5</td>\n      <td>18.1</td>\n      <td>17.9</td>\n    </tr>\n    <tr>\n      <th>Wyoming</th>\n      <td>18.3</td>\n      <td>22.0</td>\n      <td>4.7</td>\n      <td>21.7</td>\n      <td>16.6</td>\n      <td>18.6</td>\n      <td>12.0</td>\n      <td>15.2</td>\n    </tr>\n  </tbody>\n</table>\n</div>"
     },
     "metadata": {},
     "execution_count": 7
    }
   ],
   "source": [
    "csv_path = '/home/sam/Documents/Projects/Software/eduworld/eduworld/src/data/class_size/class_sizes.csv'\n",
    "df2 = pd.read_csv(csv_path, index_col=[0,1])\n",
    "df2"
   ]
  },
  {
   "cell_type": "code",
   "execution_count": 8,
   "metadata": {},
   "outputs": [
    {
     "output_type": "execute_result",
     "data": {
      "text/plain": [
       "bar  one    0.562077\n",
       "     two    1.935645\n",
       "baz  one   -0.007661\n",
       "     two    0.848626\n",
       "foo  one   -0.287812\n",
       "     two    1.639851\n",
       "qux  one   -0.774537\n",
       "     two    2.189940\n",
       "dtype: float64"
      ]
     },
     "metadata": {},
     "execution_count": 8
    }
   ],
   "source": [
    "arrays = [np.array(['bar', 'bar', 'baz', 'baz', 'foo', 'foo', 'qux', 'qux']),\n",
    "np.array(['one', 'two', 'one', 'two', 'one', 'two', 'one', 'two'])]\n",
    "s = pd.Series(np.random.randn(8), index=arrays)\n",
    "s"
   ]
  },
  {
   "cell_type": "code",
   "execution_count": 9,
   "metadata": {},
   "outputs": [
    {
     "output_type": "execute_result",
     "data": {
      "text/plain": [
       "                0         1         2         3\n",
       "bar one  1.834337  0.225118  0.608552 -1.198213\n",
       "    two  0.170713  0.534354  1.971661 -2.154030\n",
       "baz one  1.156259 -0.199575 -1.445242  0.999673\n",
       "    two  0.397607  0.877511  0.696734 -0.838474\n",
       "foo one  1.471266 -1.340671 -0.710602  2.810846\n",
       "    two  0.806595 -0.142017 -0.624694  0.029199\n",
       "qux one -0.729744 -1.172228  1.021390  0.645042\n",
       "    two -1.596155 -0.102355  0.541980 -1.056757"
      ],
      "text/html": "<div>\n<style scoped>\n    .dataframe tbody tr th:only-of-type {\n        vertical-align: middle;\n    }\n\n    .dataframe tbody tr th {\n        vertical-align: top;\n    }\n\n    .dataframe thead th {\n        text-align: right;\n    }\n</style>\n<table border=\"1\" class=\"dataframe\">\n  <thead>\n    <tr style=\"text-align: right;\">\n      <th></th>\n      <th></th>\n      <th>0</th>\n      <th>1</th>\n      <th>2</th>\n      <th>3</th>\n    </tr>\n  </thead>\n  <tbody>\n    <tr>\n      <th rowspan=\"2\" valign=\"top\">bar</th>\n      <th>one</th>\n      <td>1.834337</td>\n      <td>0.225118</td>\n      <td>0.608552</td>\n      <td>-1.198213</td>\n    </tr>\n    <tr>\n      <th>two</th>\n      <td>0.170713</td>\n      <td>0.534354</td>\n      <td>1.971661</td>\n      <td>-2.154030</td>\n    </tr>\n    <tr>\n      <th rowspan=\"2\" valign=\"top\">baz</th>\n      <th>one</th>\n      <td>1.156259</td>\n      <td>-0.199575</td>\n      <td>-1.445242</td>\n      <td>0.999673</td>\n    </tr>\n    <tr>\n      <th>two</th>\n      <td>0.397607</td>\n      <td>0.877511</td>\n      <td>0.696734</td>\n      <td>-0.838474</td>\n    </tr>\n    <tr>\n      <th rowspan=\"2\" valign=\"top\">foo</th>\n      <th>one</th>\n      <td>1.471266</td>\n      <td>-1.340671</td>\n      <td>-0.710602</td>\n      <td>2.810846</td>\n    </tr>\n    <tr>\n      <th>two</th>\n      <td>0.806595</td>\n      <td>-0.142017</td>\n      <td>-0.624694</td>\n      <td>0.029199</td>\n    </tr>\n    <tr>\n      <th rowspan=\"2\" valign=\"top\">qux</th>\n      <th>one</th>\n      <td>-0.729744</td>\n      <td>-1.172228</td>\n      <td>1.021390</td>\n      <td>0.645042</td>\n    </tr>\n    <tr>\n      <th>two</th>\n      <td>-1.596155</td>\n      <td>-0.102355</td>\n      <td>0.541980</td>\n      <td>-1.056757</td>\n    </tr>\n  </tbody>\n</table>\n</div>"
     },
     "metadata": {},
     "execution_count": 9
    }
   ],
   "source": [
    "df = pd.DataFrame(np.random.randn(8, 4), index=arrays)\n",
    "df"
   ]
  },
  {
   "cell_type": "code",
   "execution_count": null,
   "metadata": {},
   "outputs": [],
   "source": []
  }
 ]
}