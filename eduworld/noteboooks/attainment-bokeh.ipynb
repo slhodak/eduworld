{
 "metadata": {
  "language_info": {
   "codemirror_mode": {
    "name": "ipython",
    "version": 3
   },
   "file_extension": ".py",
   "mimetype": "text/x-python",
   "name": "python",
   "nbconvert_exporter": "python",
   "pygments_lexer": "ipython3",
   "version": "3.8.5-final"
  },
  "orig_nbformat": 2,
  "kernelspec": {
   "name": "python3",
   "display_name": "Python 3"
  }
 },
 "nbformat": 4,
 "nbformat_minor": 2,
 "cells": [
  {
   "cell_type": "code",
   "execution_count": 85,
   "metadata": {},
   "outputs": [],
   "source": [
    "import pandas as pd\n",
    "from bokeh.plotting import figure, output_file, save\n",
    "from bokeh.models import ColumnDataSource"
   ]
  },
  {
   "cell_type": "code",
   "execution_count": 65,
   "metadata": {},
   "outputs": [],
   "source": [
    "output_file(\"../src/html/attainment.html\")"
   ]
  },
  {
   "cell_type": "code",
   "execution_count": 15,
   "metadata": {},
   "outputs": [
    {
     "output_type": "execute_result",
     "data": {
      "text/plain": [
       "           None  1st - 4th grade  ...  Professional degree  Doctoral degree\n",
       "Age Group                         ...                                      \n",
       "18-24        66               57  ...                   14               28\n",
       "25-29        72               41  ...                  171              221\n",
       "30-34        42               77  ...                  360              461\n",
       "35-39        63              118  ...                  299              530\n",
       "40-44        76              107  ...                  330              455\n",
       "45-49        75              114  ...                  313              484\n",
       "50-54        62              102  ...                  295              393\n",
       "55-59        54              151  ...                  266              370\n",
       "60-64        65              140  ...                  329              375\n",
       "65-69        68              121  ...                  262              404\n",
       "70-74        55              143  ...                  240              405\n",
       "75+         137              298  ...                  271              431\n",
       "\n",
       "[12 rows x 15 columns]"
      ],
      "text/html": "<div>\n<style scoped>\n    .dataframe tbody tr th:only-of-type {\n        vertical-align: middle;\n    }\n\n    .dataframe tbody tr th {\n        vertical-align: top;\n    }\n\n    .dataframe thead th {\n        text-align: right;\n    }\n</style>\n<table border=\"1\" class=\"dataframe\">\n  <thead>\n    <tr style=\"text-align: right;\">\n      <th></th>\n      <th>None</th>\n      <th>1st - 4th grade</th>\n      <th>5th - 6th grade</th>\n      <th>7th - 8th grade</th>\n      <th>9th grade</th>\n      <th>10th grade</th>\n      <th>11th grade</th>\n      <th>High school graduate</th>\n      <th>Some college, no degree</th>\n      <th>Associate's degree, occupational</th>\n      <th>Associate's degree, academic</th>\n      <th>Bachelor's degree</th>\n      <th>Master's degree</th>\n      <th>Professional degree</th>\n      <th>Doctoral degree</th>\n    </tr>\n    <tr>\n      <th>Age Group</th>\n      <th></th>\n      <th></th>\n      <th></th>\n      <th></th>\n      <th></th>\n      <th></th>\n      <th></th>\n      <th></th>\n      <th></th>\n      <th></th>\n      <th></th>\n      <th></th>\n      <th></th>\n      <th></th>\n      <th></th>\n    </tr>\n  </thead>\n  <tbody>\n    <tr>\n      <th>18-24</th>\n      <td>66</td>\n      <td>57</td>\n      <td>52</td>\n      <td>101</td>\n      <td>240</td>\n      <td>562</td>\n      <td>3508</td>\n      <td>8688</td>\n      <td>10338</td>\n      <td>641</td>\n      <td>1171</td>\n      <td>3375</td>\n      <td>245</td>\n      <td>14</td>\n      <td>28</td>\n    </tr>\n    <tr>\n      <th>25-29</th>\n      <td>72</td>\n      <td>41</td>\n      <td>112</td>\n      <td>132</td>\n      <td>233</td>\n      <td>254</td>\n      <td>667</td>\n      <td>6089</td>\n      <td>4243</td>\n      <td>978</td>\n      <td>1438</td>\n      <td>6823</td>\n      <td>1803</td>\n      <td>171</td>\n      <td>221</td>\n    </tr>\n    <tr>\n      <th>30-34</th>\n      <td>42</td>\n      <td>77</td>\n      <td>212</td>\n      <td>223</td>\n      <td>250</td>\n      <td>275</td>\n      <td>675</td>\n      <td>5549</td>\n      <td>3287</td>\n      <td>1018</td>\n      <td>1305</td>\n      <td>5904</td>\n      <td>2294</td>\n      <td>360</td>\n      <td>461</td>\n    </tr>\n    <tr>\n      <th>35-39</th>\n      <td>63</td>\n      <td>118</td>\n      <td>274</td>\n      <td>229</td>\n      <td>390</td>\n      <td>343</td>\n      <td>598</td>\n      <td>5184</td>\n      <td>2984</td>\n      <td>1009</td>\n      <td>1265</td>\n      <td>5515</td>\n      <td>2643</td>\n      <td>299</td>\n      <td>530</td>\n    </tr>\n    <tr>\n      <th>40-44</th>\n      <td>76</td>\n      <td>107</td>\n      <td>339</td>\n      <td>293</td>\n      <td>367</td>\n      <td>258</td>\n      <td>550</td>\n      <td>4990</td>\n      <td>2737</td>\n      <td>834</td>\n      <td>1215</td>\n      <td>4671</td>\n      <td>2361</td>\n      <td>330</td>\n      <td>455</td>\n    </tr>\n    <tr>\n      <th>45-49</th>\n      <td>75</td>\n      <td>114</td>\n      <td>334</td>\n      <td>268</td>\n      <td>342</td>\n      <td>251</td>\n      <td>589</td>\n      <td>5299</td>\n      <td>3000</td>\n      <td>935</td>\n      <td>1327</td>\n      <td>4785</td>\n      <td>2229</td>\n      <td>313</td>\n      <td>484</td>\n    </tr>\n    <tr>\n      <th>50-54</th>\n      <td>62</td>\n      <td>102</td>\n      <td>298</td>\n      <td>274</td>\n      <td>335</td>\n      <td>270</td>\n      <td>665</td>\n      <td>5831</td>\n      <td>3059</td>\n      <td>936</td>\n      <td>1270</td>\n      <td>4492</td>\n      <td>2075</td>\n      <td>295</td>\n      <td>393</td>\n    </tr>\n    <tr>\n      <th>55-59</th>\n      <td>54</td>\n      <td>151</td>\n      <td>347</td>\n      <td>283</td>\n      <td>311</td>\n      <td>366</td>\n      <td>700</td>\n      <td>6374</td>\n      <td>3370</td>\n      <td>1007</td>\n      <td>1307</td>\n      <td>4348</td>\n      <td>1908</td>\n      <td>266</td>\n      <td>370</td>\n    </tr>\n    <tr>\n      <th>60-64</th>\n      <td>65</td>\n      <td>140</td>\n      <td>318</td>\n      <td>289</td>\n      <td>273</td>\n      <td>318</td>\n      <td>640</td>\n      <td>6423</td>\n      <td>3223</td>\n      <td>924</td>\n      <td>1355</td>\n      <td>4051</td>\n      <td>1867</td>\n      <td>329</td>\n      <td>375</td>\n    </tr>\n    <tr>\n      <th>65-69</th>\n      <td>68</td>\n      <td>121</td>\n      <td>243</td>\n      <td>264</td>\n      <td>251</td>\n      <td>278</td>\n      <td>439</td>\n      <td>4927</td>\n      <td>3042</td>\n      <td>776</td>\n      <td>1009</td>\n      <td>3495</td>\n      <td>1775</td>\n      <td>262</td>\n      <td>404</td>\n    </tr>\n    <tr>\n      <th>70-74</th>\n      <td>55</td>\n      <td>143</td>\n      <td>168</td>\n      <td>247</td>\n      <td>178</td>\n      <td>261</td>\n      <td>383</td>\n      <td>4130</td>\n      <td>2346</td>\n      <td>556</td>\n      <td>765</td>\n      <td>2693</td>\n      <td>1560</td>\n      <td>240</td>\n      <td>405</td>\n    </tr>\n    <tr>\n      <th>75+</th>\n      <td>137</td>\n      <td>298</td>\n      <td>466</td>\n      <td>809</td>\n      <td>435</td>\n      <td>522</td>\n      <td>705</td>\n      <td>7462</td>\n      <td>3398</td>\n      <td>767</td>\n      <td>740</td>\n      <td>3160</td>\n      <td>1699</td>\n      <td>271</td>\n      <td>431</td>\n    </tr>\n  </tbody>\n</table>\n</div>"
     },
     "metadata": {},
     "execution_count": 15
    }
   ],
   "source": [
    "df = pd.read_csv(\"../src/data/table-1-1-mf.csv\")\n",
    "grouped = df.set_index(\"Age Group\")\n",
    "grouped"
   ]
  },
  {
   "cell_type": "code",
   "execution_count": 17,
   "metadata": {},
   "outputs": [
    {
     "output_type": "execute_result",
     "data": {
      "text/plain": [
       "ColumnDataSource(id='1158', ...)"
      ],
      "text/html": "<div style=\"display: table;\"><div style=\"display: table-row;\"><div style=\"display: table-cell;\"><b title=\"bokeh.models.sources.ColumnDataSource\">ColumnDataSource</b>(</div><div style=\"display: table-cell;\">id&nbsp;=&nbsp;'1158', <span id=\"1160\" style=\"cursor: pointer;\">&hellip;)</span></div></div><div class=\"1159\" style=\"display: none;\"><div style=\"display: table-cell;\"></div><div style=\"display: table-cell;\">data&nbsp;=&nbsp;{\"Master's degree\": [245, 1803, 2294, 2643, 2361, 2229, 2075, 1908, 1867, 1775, 1560, 1699], 'High school graduate': [8688, 6089, 5549, 5184, 4990, 5299, 5831, 6374, 6423, 4927, 4130, 7462], '10th grade': [562, 254, 275, 343, 258, 251, 270, 366, 318, 278, 261, 522], 'None': [66, 72, 42, 63, 76, 75, 62, 54, 65, 68, 55, 137], 'Some college, no degree': [10338, 4243, 3287, 2984, 2737, 3000, 3059, 3370, 3223, 3042, 2346, 3398], 'Professional degree': [14, 171, 360, 299, 330, 313, 295, 266, 329, 262, 240, 271], '7th - 8th grade': [101, 132, 223, 229, 293, 268, 274, 283, 289, 264, 247, 809], '9th grade': [240, 233, 250, 390, 367, 342, 335, 311, 273, 251, 178, 435], '5th - 6th grade': [52, 112, 212, 274, 339, 334, 298, 347, 318, 243, 168, 466], \"Associate's degree, academic\": [1171, 1438, 1305, 1265, 1215, 1327, 1270, 1307, 1355, 1009, 765, 740], '11th grade': [3508, 667, 675, 598, 550, 589, 665, 700, 640, 439, 383, 705], \"Associate's degree, occupational\": [641, 978, 1018, 1009, 834, 935, 936, 1007, 924, 776, 556, 767], 'Age Group': ['18-24', '25-29', '30-34', '35-39', '40-44', '45-49', '50-54', '55-59', '60-64', '65-69', '70-74', '75+'], 'Doctoral degree': [28, 221, 461, 530, 455, 484, 393, 370, 375, 404, 405, 431], \"Bachelor's degree\": [3375, 6823, 5904, 5515, 4671, 4785, 4492, 4348, 4051, 3495, 2693, 3160], '1st - 4th grade': [57, 41, 77, 118, 107, 114, 102, 151, 140, 121, 143, 298]},</div></div><div class=\"1159\" style=\"display: none;\"><div style=\"display: table-cell;\"></div><div style=\"display: table-cell;\">js_event_callbacks&nbsp;=&nbsp;{},</div></div><div class=\"1159\" style=\"display: none;\"><div style=\"display: table-cell;\"></div><div style=\"display: table-cell;\">js_property_callbacks&nbsp;=&nbsp;{},</div></div><div class=\"1159\" style=\"display: none;\"><div style=\"display: table-cell;\"></div><div style=\"display: table-cell;\">name&nbsp;=&nbsp;None,</div></div><div class=\"1159\" style=\"display: none;\"><div style=\"display: table-cell;\"></div><div style=\"display: table-cell;\">selected&nbsp;=&nbsp;Selection(id='1162', ...),</div></div><div class=\"1159\" style=\"display: none;\"><div style=\"display: table-cell;\"></div><div style=\"display: table-cell;\">selection_policy&nbsp;=&nbsp;UnionRenderers(id='1161', ...),</div></div><div class=\"1159\" style=\"display: none;\"><div style=\"display: table-cell;\"></div><div style=\"display: table-cell;\">subscribed_events&nbsp;=&nbsp;[],</div></div><div class=\"1159\" style=\"display: none;\"><div style=\"display: table-cell;\"></div><div style=\"display: table-cell;\">tags&nbsp;=&nbsp;[])</div></div></div>\n<script>\n(function() {\n  var expanded = false;\n  var ellipsis = document.getElementById(\"1160\");\n  ellipsis.addEventListener(\"click\", function() {\n    var rows = document.getElementsByClassName(\"1159\");\n    for (var i = 0; i < rows.length; i++) {\n      var el = rows[i];\n      el.style.display = expanded ? \"none\" : \"table-row\";\n    }\n    ellipsis.innerHTML = expanded ? \"&hellip;)\" : \"&lsaquo;&lsaquo;&lsaquo;\";\n    expanded = !expanded;\n  });\n})();\n</script>\n"
     },
     "metadata": {},
     "execution_count": 17
    }
   ],
   "source": [
    "cds = ColumnDataSource(grouped)\n",
    "cds"
   ]
  },
  {
   "cell_type": "code",
   "execution_count": 51,
   "metadata": {},
   "outputs": [
    {
     "output_type": "execute_result",
     "data": {
      "text/plain": [
       "array([ 57,  41,  77, 118, 107, 114, 102, 151, 140, 121, 143, 298])"
      ]
     },
     "metadata": {},
     "execution_count": 51
    }
   ],
   "source": [
    "cds.data[\"1st - 4th grade\"]"
   ]
  },
  {
   "cell_type": "code",
   "execution_count": 75,
   "metadata": {},
   "outputs": [],
   "source": [
    "age_groups = cds.data[\"Age Group\"]\n",
    "data = {'Age Group' : age_groups,\n",
    "        \"None\" : cds.data[\"None\"],\n",
    "        \"1st - 4th grade\": cds.data[\"1st - 4th grade\"],\n",
    "        \"5th - 6th grade\": cds.data[\"5th - 6th grade\"],\n",
    "        \"9th grade\": cds.data[\"9th grade\"],\n",
    "        \"10th grade\": cds.data[\"10th grade\"],\n",
    "        \"11th grade\": cds.data[\"11th grade\"],\n",
    "        \"High school graduate\": cds.data[\"High school graduate\"],\n",
    "        \"Some college, no degree\": cds.data[\"Some college, no degree\"],\n",
    "        \"Associate's degree, occupational\": cds.data[\"Associate's degree, occupational\"],\n",
    "        \"Associate's degree, academic\": cds.data[\"Associate's degree, academic\"],\n",
    "        \"Bachelor's degree\": cds.data[\"Bachelor's degree\"],\n",
    "        \"Master's degree\": cds.data[\"Master's degree\"],\n",
    "        \"Professional degree\": cds.data[\"Professional degree\"],\n",
    "        \"Doctoral degree\": cds.data[\"Doctoral degree\"]\n",
    "}\n",
    "colors = [ \"#066595\", \"#d6704f\", \"#70e0e9\", \"#766a45\", \"#8bb21d\", \"#984379\", \"#984379\", \"#4e7839\", \"#60c7ab\", \"#abac85\", \"#abac85\", \"#e52e45\", \"#e52e45\", \"#234c56\", \"#bd0466\" ]\n",
    "attainments = [\n",
    "        \"None\",\n",
    "        \"1st - 4th grade\",\n",
    "        \"5th - 6th grade\",\n",
    "        \"7th - 8th grade\",\n",
    "        \"9th grade\",\n",
    "        \"10th grade\",\n",
    "        \"11th grade\",\n",
    "        \"High school graduate\",\n",
    "        \"Some college, no degree\",\n",
    "        \"Associate's degree, occupational\",\n",
    "        \"Associate's degree, academic\",\n",
    "        \"Bachelor's degree\",\n",
    "        \"Master's degree\",\n",
    "        \"Professional degree\",\n",
    "        \"Doctoral degree\"\n",
    "]"
   ]
  },
  {
   "cell_type": "code",
   "execution_count": 76,
   "metadata": {},
   "outputs": [
    {
     "output_type": "execute_result",
     "data": {
      "text/plain": [
       "{'10th grade',\n",
       " '11th grade',\n",
       " '1st - 4th grade',\n",
       " '5th - 6th grade',\n",
       " '9th grade',\n",
       " 'Age Group',\n",
       " \"Associate's degree, academic\",\n",
       " \"Associate's degree, occupational\",\n",
       " \"Bachelor's degree\",\n",
       " 'Doctoral degree',\n",
       " 'High school graduate',\n",
       " \"Master's degree\",\n",
       " 'None',\n",
       " 'Professional degree',\n",
       " 'Some college, no degree'}"
      ]
     },
     "metadata": {},
     "execution_count": 76
    }
   ],
   "source": [
    "data.keys() - 'Age Group'"
   ]
  },
  {
   "cell_type": "code",
   "execution_count": 119,
   "metadata": {},
   "outputs": [
    {
     "output_type": "execute_result",
     "data": {
      "text/plain": [
       "[GlyphRenderer(id='16692', ...),\n",
       " GlyphRenderer(id='16708', ...),\n",
       " GlyphRenderer(id='16725', ...),\n",
       " GlyphRenderer(id='16744', ...),\n",
       " GlyphRenderer(id='16765', ...),\n",
       " GlyphRenderer(id='16788', ...),\n",
       " GlyphRenderer(id='16813', ...),\n",
       " GlyphRenderer(id='16840', ...),\n",
       " GlyphRenderer(id='16869', ...),\n",
       " GlyphRenderer(id='16900', ...),\n",
       " GlyphRenderer(id='16933', ...),\n",
       " GlyphRenderer(id='16968', ...),\n",
       " GlyphRenderer(id='17005', ...),\n",
       " GlyphRenderer(id='17044', ...),\n",
       " GlyphRenderer(id='17085', ...)]"
      ]
     },
     "metadata": {},
     "execution_count": 119
    }
   ],
   "source": [
    "p = figure(x_range=age_groups, plot_height=450, plot_width=800, title=\"Educational Attainment by Age Group (USA, 2019)\")\n",
    "p.vbar_stack(attainments, x=\"Age Group\", width=0.8, color=colors, source=data, legend_label=attainments)"
   ]
  },
  {
   "cell_type": "code",
   "execution_count": 111,
   "metadata": {},
   "outputs": [],
   "source": [
    "p.y_range.start = 0\n",
    "p.x_range.range_padding = 0.1\n",
    "p.xgrid.grid_line_color = None\n",
    "p.axis.minor_tick_line_color = None\n",
    "p.outline_line_color = None\n",
    "p.legend.location = \"top_right\"\n",
    "p.legend.orientation = \"horizontal\""
   ]
  },
  {
   "cell_type": "code",
   "execution_count": 120,
   "metadata": {},
   "outputs": [
    {
     "output_type": "execute_result",
     "data": {
      "text/plain": [
       "'/home/sam/Documents/Projects/Software/eduworld/eduworld/src/html/attainment.html'"
      ]
     },
     "metadata": {},
     "execution_count": 120
    }
   ],
   "source": [
    "save(p)"
   ]
  },
  {
   "cell_type": "code",
   "execution_count": null,
   "metadata": {},
   "outputs": [],
   "source": []
  }
 ]
}