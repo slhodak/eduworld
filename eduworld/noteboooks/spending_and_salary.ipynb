{
 "metadata": {
  "language_info": {
   "codemirror_mode": {
    "name": "ipython",
    "version": 3
   },
   "file_extension": ".py",
   "mimetype": "text/x-python",
   "name": "python",
   "nbconvert_exporter": "python",
   "pygments_lexer": "ipython3",
   "version": "3.8.3-final"
  },
  "orig_nbformat": 2,
  "kernelspec": {
   "name": "python3",
   "display_name": "Python 3.8.3 64-bit ('base': conda)",
   "metadata": {
    "interpreter": {
     "hash": "3c3b5225a6727aa9f3fe14dedf086591e4ea58edb699afd8f4f173b6707d21c8"
    }
   }
  }
 },
 "nbformat": 4,
 "nbformat_minor": 2,
 "cells": [
  {
   "cell_type": "code",
   "execution_count": 420,
   "metadata": {},
   "outputs": [],
   "source": [
    "import pandas as pd"
   ]
  },
  {
   "cell_type": "code",
   "execution_count": 421,
   "metadata": {},
   "outputs": [
    {
     "output_type": "execute_result",
     "data": {
      "text/plain": [
       "                   State  Avg. Teacher Salary (2017)  \\\n",
       "0                Alabama                       51616   \n",
       "1                 Alaska                       71126   \n",
       "2                Arizona                       49733   \n",
       "3               Arkansas                       51591   \n",
       "4             California                       82352   \n",
       "5               Colorado                       53793   \n",
       "6            Connecticut                       76061   \n",
       "7               Delaware                       63076   \n",
       "8   District of Columbia                       78071   \n",
       "9                Florida                       49166   \n",
       "10               Georgia                       57496   \n",
       "11                Hawaii                       59065   \n",
       "12                 Idaho                       50245   \n",
       "13              Illinois                       67083   \n",
       "14               Indiana                       51663   \n",
       "15                  Iowa                       58200   \n",
       "16                Kansas                       50785   \n",
       "17              Kentucky                       54049   \n",
       "18             Louisiana                       51403   \n",
       "19                 Maine                       54930   \n",
       "20              Maryland                       71070   \n",
       "21         Massachusetts                       82022   \n",
       "22              Michigan                       63194   \n",
       "23             Minnesota                       58979   \n",
       "24           Mississippi                       45857   \n",
       "25              Missouri                       50326   \n",
       "26               Montana                       53870   \n",
       "27              Nebraska                       55336   \n",
       "28                Nevada                       55405   \n",
       "29         New Hampshire                       59031   \n",
       "30            New Jersey                       71366   \n",
       "31            New Mexico                       48129   \n",
       "32              New York                       85972   \n",
       "33        North Carolina                       52293   \n",
       "34          North Dakota                       53945   \n",
       "35                  Ohio                       59202   \n",
       "36              Oklahoma                       47259   \n",
       "37                Oregon                       64368   \n",
       "38          Pennsylvania                       68935   \n",
       "39          Rhode Island                       68141   \n",
       "40        South Carolina                       51222   \n",
       "41          South Dakota                       48618   \n",
       "42             Tennessee                       51955   \n",
       "43                 Texas                       54439   \n",
       "44                  Utah                       50684   \n",
       "45               Vermont                       61811   \n",
       "46              Virginia                       53071   \n",
       "47            Washington                       56847   \n",
       "48         West Virginia                       46588   \n",
       "49             Wisconsin                       52536   \n",
       "50               Wyoming                       59561   \n",
       "\n",
       "    Spending Per Pupil (2016)  \n",
       "0                        9944  \n",
       "1                       18618  \n",
       "2                        8405  \n",
       "3                       10442  \n",
       "4                       12683  \n",
       "5                       10280  \n",
       "6                       20801  \n",
       "7                       15543  \n",
       "8                       23548  \n",
       "9                        9784  \n",
       "10                      10723  \n",
       "11                      14948  \n",
       "12                       7885  \n",
       "13                      16196  \n",
       "14                      10253  \n",
       "15                      11957  \n",
       "16                      10884  \n",
       "17                      10524  \n",
       "18                      11876  \n",
       "19                      15273  \n",
       "20                      15586  \n",
       "21                      18493  \n",
       "22                      11748  \n",
       "23                      13188  \n",
       "24                       9137  \n",
       "25                      11151  \n",
       "26                      12043  \n",
       "27                      13215  \n",
       "28                       9519  \n",
       "29                      16656  \n",
       "30                      20441  \n",
       "31                      10384  \n",
       "32                      23861  \n",
       "33                       9389  \n",
       "34                      14369  \n",
       "35                      13118  \n",
       "36                       8267  \n",
       "37                      11744  \n",
       "38                      16472  \n",
       "39                      17346  \n",
       "40                      10874  \n",
       "41                      10560  \n",
       "42                       9651  \n",
       "43                       9936  \n",
       "44                       7521  \n",
       "45                      20332  \n",
       "46                      12405  \n",
       "47                      12494  \n",
       "48                      12258  \n",
       "49                      12486  \n",
       "50                      17235  "
      ],
      "text/html": "<div>\n<style scoped>\n    .dataframe tbody tr th:only-of-type {\n        vertical-align: middle;\n    }\n\n    .dataframe tbody tr th {\n        vertical-align: top;\n    }\n\n    .dataframe thead th {\n        text-align: right;\n    }\n</style>\n<table border=\"1\" class=\"dataframe\">\n  <thead>\n    <tr style=\"text-align: right;\">\n      <th></th>\n      <th>State</th>\n      <th>Avg. Teacher Salary (2017)</th>\n      <th>Spending Per Pupil (2016)</th>\n    </tr>\n  </thead>\n  <tbody>\n    <tr>\n      <th>0</th>\n      <td>Alabama</td>\n      <td>51616</td>\n      <td>9944</td>\n    </tr>\n    <tr>\n      <th>1</th>\n      <td>Alaska</td>\n      <td>71126</td>\n      <td>18618</td>\n    </tr>\n    <tr>\n      <th>2</th>\n      <td>Arizona</td>\n      <td>49733</td>\n      <td>8405</td>\n    </tr>\n    <tr>\n      <th>3</th>\n      <td>Arkansas</td>\n      <td>51591</td>\n      <td>10442</td>\n    </tr>\n    <tr>\n      <th>4</th>\n      <td>California</td>\n      <td>82352</td>\n      <td>12683</td>\n    </tr>\n    <tr>\n      <th>5</th>\n      <td>Colorado</td>\n      <td>53793</td>\n      <td>10280</td>\n    </tr>\n    <tr>\n      <th>6</th>\n      <td>Connecticut</td>\n      <td>76061</td>\n      <td>20801</td>\n    </tr>\n    <tr>\n      <th>7</th>\n      <td>Delaware</td>\n      <td>63076</td>\n      <td>15543</td>\n    </tr>\n    <tr>\n      <th>8</th>\n      <td>District of Columbia</td>\n      <td>78071</td>\n      <td>23548</td>\n    </tr>\n    <tr>\n      <th>9</th>\n      <td>Florida</td>\n      <td>49166</td>\n      <td>9784</td>\n    </tr>\n    <tr>\n      <th>10</th>\n      <td>Georgia</td>\n      <td>57496</td>\n      <td>10723</td>\n    </tr>\n    <tr>\n      <th>11</th>\n      <td>Hawaii</td>\n      <td>59065</td>\n      <td>14948</td>\n    </tr>\n    <tr>\n      <th>12</th>\n      <td>Idaho</td>\n      <td>50245</td>\n      <td>7885</td>\n    </tr>\n    <tr>\n      <th>13</th>\n      <td>Illinois</td>\n      <td>67083</td>\n      <td>16196</td>\n    </tr>\n    <tr>\n      <th>14</th>\n      <td>Indiana</td>\n      <td>51663</td>\n      <td>10253</td>\n    </tr>\n    <tr>\n      <th>15</th>\n      <td>Iowa</td>\n      <td>58200</td>\n      <td>11957</td>\n    </tr>\n    <tr>\n      <th>16</th>\n      <td>Kansas</td>\n      <td>50785</td>\n      <td>10884</td>\n    </tr>\n    <tr>\n      <th>17</th>\n      <td>Kentucky</td>\n      <td>54049</td>\n      <td>10524</td>\n    </tr>\n    <tr>\n      <th>18</th>\n      <td>Louisiana</td>\n      <td>51403</td>\n      <td>11876</td>\n    </tr>\n    <tr>\n      <th>19</th>\n      <td>Maine</td>\n      <td>54930</td>\n      <td>15273</td>\n    </tr>\n    <tr>\n      <th>20</th>\n      <td>Maryland</td>\n      <td>71070</td>\n      <td>15586</td>\n    </tr>\n    <tr>\n      <th>21</th>\n      <td>Massachusetts</td>\n      <td>82022</td>\n      <td>18493</td>\n    </tr>\n    <tr>\n      <th>22</th>\n      <td>Michigan</td>\n      <td>63194</td>\n      <td>11748</td>\n    </tr>\n    <tr>\n      <th>23</th>\n      <td>Minnesota</td>\n      <td>58979</td>\n      <td>13188</td>\n    </tr>\n    <tr>\n      <th>24</th>\n      <td>Mississippi</td>\n      <td>45857</td>\n      <td>9137</td>\n    </tr>\n    <tr>\n      <th>25</th>\n      <td>Missouri</td>\n      <td>50326</td>\n      <td>11151</td>\n    </tr>\n    <tr>\n      <th>26</th>\n      <td>Montana</td>\n      <td>53870</td>\n      <td>12043</td>\n    </tr>\n    <tr>\n      <th>27</th>\n      <td>Nebraska</td>\n      <td>55336</td>\n      <td>13215</td>\n    </tr>\n    <tr>\n      <th>28</th>\n      <td>Nevada</td>\n      <td>55405</td>\n      <td>9519</td>\n    </tr>\n    <tr>\n      <th>29</th>\n      <td>New Hampshire</td>\n      <td>59031</td>\n      <td>16656</td>\n    </tr>\n    <tr>\n      <th>30</th>\n      <td>New Jersey</td>\n      <td>71366</td>\n      <td>20441</td>\n    </tr>\n    <tr>\n      <th>31</th>\n      <td>New Mexico</td>\n      <td>48129</td>\n      <td>10384</td>\n    </tr>\n    <tr>\n      <th>32</th>\n      <td>New York</td>\n      <td>85972</td>\n      <td>23861</td>\n    </tr>\n    <tr>\n      <th>33</th>\n      <td>North Carolina</td>\n      <td>52293</td>\n      <td>9389</td>\n    </tr>\n    <tr>\n      <th>34</th>\n      <td>North Dakota</td>\n      <td>53945</td>\n      <td>14369</td>\n    </tr>\n    <tr>\n      <th>35</th>\n      <td>Ohio</td>\n      <td>59202</td>\n      <td>13118</td>\n    </tr>\n    <tr>\n      <th>36</th>\n      <td>Oklahoma</td>\n      <td>47259</td>\n      <td>8267</td>\n    </tr>\n    <tr>\n      <th>37</th>\n      <td>Oregon</td>\n      <td>64368</td>\n      <td>11744</td>\n    </tr>\n    <tr>\n      <th>38</th>\n      <td>Pennsylvania</td>\n      <td>68935</td>\n      <td>16472</td>\n    </tr>\n    <tr>\n      <th>39</th>\n      <td>Rhode Island</td>\n      <td>68141</td>\n      <td>17346</td>\n    </tr>\n    <tr>\n      <th>40</th>\n      <td>South Carolina</td>\n      <td>51222</td>\n      <td>10874</td>\n    </tr>\n    <tr>\n      <th>41</th>\n      <td>South Dakota</td>\n      <td>48618</td>\n      <td>10560</td>\n    </tr>\n    <tr>\n      <th>42</th>\n      <td>Tennessee</td>\n      <td>51955</td>\n      <td>9651</td>\n    </tr>\n    <tr>\n      <th>43</th>\n      <td>Texas</td>\n      <td>54439</td>\n      <td>9936</td>\n    </tr>\n    <tr>\n      <th>44</th>\n      <td>Utah</td>\n      <td>50684</td>\n      <td>7521</td>\n    </tr>\n    <tr>\n      <th>45</th>\n      <td>Vermont</td>\n      <td>61811</td>\n      <td>20332</td>\n    </tr>\n    <tr>\n      <th>46</th>\n      <td>Virginia</td>\n      <td>53071</td>\n      <td>12405</td>\n    </tr>\n    <tr>\n      <th>47</th>\n      <td>Washington</td>\n      <td>56847</td>\n      <td>12494</td>\n    </tr>\n    <tr>\n      <th>48</th>\n      <td>West Virginia</td>\n      <td>46588</td>\n      <td>12258</td>\n    </tr>\n    <tr>\n      <th>49</th>\n      <td>Wisconsin</td>\n      <td>52536</td>\n      <td>12486</td>\n    </tr>\n    <tr>\n      <th>50</th>\n      <td>Wyoming</td>\n      <td>59561</td>\n      <td>17235</td>\n    </tr>\n  </tbody>\n</table>\n</div>"
     },
     "metadata": {},
     "execution_count": 421
    }
   ],
   "source": [
    "df = pd.read_csv('../src/data/pupil_spending_teacher_salary/spending_and_salary.csv')\n",
    "df"
   ]
  },
  {
   "cell_type": "code",
   "execution_count": 422,
   "metadata": {},
   "outputs": [
    {
     "output_type": "execute_result",
     "data": {
      "text/plain": [
       "       Avg. Teacher Salary (2017)  Spending Per Pupil (2016)\n",
       "count                   51.000000                  51.000000\n",
       "mean                 58500.705882               13185.215686\n",
       "std                   9998.893701                4004.372052\n",
       "min                  45857.000000                7521.000000\n",
       "25%                  51497.000000               10332.000000\n",
       "50%                  54930.000000               12043.000000\n",
       "75%                  63135.000000               15564.500000\n",
       "max                  85972.000000               23861.000000"
      ],
      "text/html": "<div>\n<style scoped>\n    .dataframe tbody tr th:only-of-type {\n        vertical-align: middle;\n    }\n\n    .dataframe tbody tr th {\n        vertical-align: top;\n    }\n\n    .dataframe thead th {\n        text-align: right;\n    }\n</style>\n<table border=\"1\" class=\"dataframe\">\n  <thead>\n    <tr style=\"text-align: right;\">\n      <th></th>\n      <th>Avg. Teacher Salary (2017)</th>\n      <th>Spending Per Pupil (2016)</th>\n    </tr>\n  </thead>\n  <tbody>\n    <tr>\n      <th>count</th>\n      <td>51.000000</td>\n      <td>51.000000</td>\n    </tr>\n    <tr>\n      <th>mean</th>\n      <td>58500.705882</td>\n      <td>13185.215686</td>\n    </tr>\n    <tr>\n      <th>std</th>\n      <td>9998.893701</td>\n      <td>4004.372052</td>\n    </tr>\n    <tr>\n      <th>min</th>\n      <td>45857.000000</td>\n      <td>7521.000000</td>\n    </tr>\n    <tr>\n      <th>25%</th>\n      <td>51497.000000</td>\n      <td>10332.000000</td>\n    </tr>\n    <tr>\n      <th>50%</th>\n      <td>54930.000000</td>\n      <td>12043.000000</td>\n    </tr>\n    <tr>\n      <th>75%</th>\n      <td>63135.000000</td>\n      <td>15564.500000</td>\n    </tr>\n    <tr>\n      <th>max</th>\n      <td>85972.000000</td>\n      <td>23861.000000</td>\n    </tr>\n  </tbody>\n</table>\n</div>"
     },
     "metadata": {},
     "execution_count": 422
    }
   ],
   "source": [
    "df.describe()"
   ]
  },
  {
   "cell_type": "code",
   "execution_count": 423,
   "metadata": {},
   "outputs": [
    {
     "output_type": "execute_result",
     "data": {
      "text/plain": [
       "State                         New York\n",
       "Avg. Teacher Salary (2017)       85972\n",
       "Spending Per Pupil (2016)        23861\n",
       "Name: 32, dtype: object"
      ]
     },
     "metadata": {},
     "execution_count": 423
    }
   ],
   "source": [
    "df.iloc[df['Avg. Teacher Salary (2017)'].idxmax()] # dataframe row at index of column's maximum value"
   ]
  },
  {
   "cell_type": "code",
   "execution_count": 424,
   "metadata": {},
   "outputs": [
    {
     "output_type": "execute_result",
     "data": {
      "text/plain": [
       "State                         New York\n",
       "Avg. Teacher Salary (2017)       85972\n",
       "Spending Per Pupil (2016)        23861\n",
       "Name: 32, dtype: object"
      ]
     },
     "metadata": {},
     "execution_count": 424
    }
   ],
   "source": [
    "df.iloc[df['Spending Per Pupil (2016)'].idxmax()]"
   ]
  },
  {
   "cell_type": "code",
   "execution_count": 425,
   "metadata": {},
   "outputs": [],
   "source": [
    "from bokeh.plotting import figure, output_file, show\n",
    "from bokeh.models import ColumnDataSource, Label, LabelSet, Range1d"
   ]
  },
  {
   "cell_type": "code",
   "execution_count": 426,
   "metadata": {},
   "outputs": [],
   "source": [
    "cds = ColumnDataSource(dict(\n",
    "    salary = df['Avg. Teacher Salary (2017)'],\n",
    "    spending = df['Spending Per Pupil (2016)'],\n",
    "    state = df.State,\n",
    "    color = [\n",
    "    \"#%02x%02x%02x\" % (int(r), int(g), 150) for r, g in zip(50+2*cds.data['salary'], 30+2*cds.data['spending'])\n",
    "]\n",
    "))"
   ]
  },
  {
   "cell_type": "code",
   "execution_count": 427,
   "metadata": {},
   "outputs": [],
   "source": [
    "TOOLTIPS = [\n",
    "    (\"State\", \"@state\"),\n",
    "    (\"Average Teacher Salary\", \"@salary\"),\n",
    "    (\"Spending Per Pupil\", \"@spending\"),\n",
    "]"
   ]
  },
  {
   "cell_type": "code",
   "execution_count": 428,
   "metadata": {},
   "outputs": [],
   "source": [
    "p = figure(title='Teacher Salary & Spending Per Pupil by State', plot_width=800, plot_height=800, x_axis_label='Average Teacher Salary (2017)', y_axis_label='Spending Per Pupil (2016)', tooltips=TOOLTIPS)\n",
    "p.title.text_font_size='16pt'"
   ]
  },
  {
   "cell_type": "code",
   "execution_count": 429,
   "metadata": {},
   "outputs": [],
   "source": [
    "# labels = LabelSet(x='salary', y='spending', text='states', level='glyph', x_offset=-3, y_offset=5, source=cds, render_mode='canvas', text_font_size='8pt')\n",
    "# p.add_layout(labels)"
   ]
  },
  {
   "cell_type": "code",
   "execution_count": 430,
   "metadata": {},
   "outputs": [
    {
     "output_type": "execute_result",
     "data": {
      "text/plain": [
       "GlyphRenderer(id='13046', ...)"
      ],
      "text/html": "<div style=\"display: table;\"><div style=\"display: table-row;\"><div style=\"display: table-cell;\"><b title=\"bokeh.models.renderers.GlyphRenderer\">GlyphRenderer</b>(</div><div style=\"display: table-cell;\">id&nbsp;=&nbsp;'13046', <span id=\"13049\" style=\"cursor: pointer;\">&hellip;)</span></div></div><div class=\"13048\" style=\"display: none;\"><div style=\"display: table-cell;\"></div><div style=\"display: table-cell;\">data_source&nbsp;=&nbsp;ColumnDataSource(id='13007', ...),</div></div><div class=\"13048\" style=\"display: none;\"><div style=\"display: table-cell;\"></div><div style=\"display: table-cell;\">glyph&nbsp;=&nbsp;Scatter(id='13044', ...),</div></div><div class=\"13048\" style=\"display: none;\"><div style=\"display: table-cell;\"></div><div style=\"display: table-cell;\">hover_glyph&nbsp;=&nbsp;None,</div></div><div class=\"13048\" style=\"display: none;\"><div style=\"display: table-cell;\"></div><div style=\"display: table-cell;\">js_event_callbacks&nbsp;=&nbsp;{},</div></div><div class=\"13048\" style=\"display: none;\"><div style=\"display: table-cell;\"></div><div style=\"display: table-cell;\">js_property_callbacks&nbsp;=&nbsp;{},</div></div><div class=\"13048\" style=\"display: none;\"><div style=\"display: table-cell;\"></div><div style=\"display: table-cell;\">level&nbsp;=&nbsp;'glyph',</div></div><div class=\"13048\" style=\"display: none;\"><div style=\"display: table-cell;\"></div><div style=\"display: table-cell;\">muted&nbsp;=&nbsp;False,</div></div><div class=\"13048\" style=\"display: none;\"><div style=\"display: table-cell;\"></div><div style=\"display: table-cell;\">muted_glyph&nbsp;=&nbsp;None,</div></div><div class=\"13048\" style=\"display: none;\"><div style=\"display: table-cell;\"></div><div style=\"display: table-cell;\">name&nbsp;=&nbsp;None,</div></div><div class=\"13048\" style=\"display: none;\"><div style=\"display: table-cell;\"></div><div style=\"display: table-cell;\">nonselection_glyph&nbsp;=&nbsp;Scatter(id='13045', ...),</div></div><div class=\"13048\" style=\"display: none;\"><div style=\"display: table-cell;\"></div><div style=\"display: table-cell;\">selection_glyph&nbsp;=&nbsp;None,</div></div><div class=\"13048\" style=\"display: none;\"><div style=\"display: table-cell;\"></div><div style=\"display: table-cell;\">subscribed_events&nbsp;=&nbsp;[],</div></div><div class=\"13048\" style=\"display: none;\"><div style=\"display: table-cell;\"></div><div style=\"display: table-cell;\">tags&nbsp;=&nbsp;[],</div></div><div class=\"13048\" style=\"display: none;\"><div style=\"display: table-cell;\"></div><div style=\"display: table-cell;\">view&nbsp;=&nbsp;CDSView(id='13047', ...),</div></div><div class=\"13048\" style=\"display: none;\"><div style=\"display: table-cell;\"></div><div style=\"display: table-cell;\">visible&nbsp;=&nbsp;True,</div></div><div class=\"13048\" style=\"display: none;\"><div style=\"display: table-cell;\"></div><div style=\"display: table-cell;\">x_range_name&nbsp;=&nbsp;'default',</div></div><div class=\"13048\" style=\"display: none;\"><div style=\"display: table-cell;\"></div><div style=\"display: table-cell;\">y_range_name&nbsp;=&nbsp;'default')</div></div></div>\n<script>\n(function() {\n  var expanded = false;\n  var ellipsis = document.getElementById(\"13049\");\n  ellipsis.addEventListener(\"click\", function() {\n    var rows = document.getElementsByClassName(\"13048\");\n    for (var i = 0; i < rows.length; i++) {\n      var el = rows[i];\n      el.style.display = expanded ? \"none\" : \"table-row\";\n    }\n    ellipsis.innerHTML = expanded ? \"&hellip;)\" : \"&lsaquo;&lsaquo;&lsaquo;\";\n    expanded = !expanded;\n  });\n})();\n</script>\n"
     },
     "metadata": {},
     "execution_count": 430
    }
   ],
   "source": [
    "p.scatter('salary', 'spending', fill_color='color', source=cds, size=12)"
   ]
  },
  {
   "cell_type": "code",
   "execution_count": 431,
   "metadata": {},
   "outputs": [],
   "source": [
    "show(p)"
   ]
  },
  {
   "cell_type": "code",
   "execution_count": null,
   "metadata": {},
   "outputs": [],
   "source": []
  },
  {
   "cell_type": "code",
   "execution_count": null,
   "metadata": {},
   "outputs": [],
   "source": []
  }
 ]
}