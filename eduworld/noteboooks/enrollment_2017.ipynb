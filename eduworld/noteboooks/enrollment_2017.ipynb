{
 "metadata": {
  "language_info": {
   "codemirror_mode": {
    "name": "ipython",
    "version": 3
   },
   "file_extension": ".py",
   "mimetype": "text/x-python",
   "name": "python",
   "nbconvert_exporter": "python",
   "pygments_lexer": "ipython3",
   "version": "3.8.5-final"
  },
  "orig_nbformat": 2,
  "kernelspec": {
   "name": "python3",
   "display_name": "Python 3"
  }
 },
 "nbformat": 4,
 "nbformat_minor": 2,
 "cells": [
  {
   "cell_type": "code",
   "execution_count": 157,
   "metadata": {},
   "outputs": [],
   "source": [
    "import pandas as pd\n",
    "from bokeh.plotting import figure, output_file, save, show\n",
    "import math"
   ]
  },
  {
   "cell_type": "code",
   "execution_count": 158,
   "metadata": {},
   "outputs": [],
   "source": [
    "output_file('../src/html/enrollment_2017.html')"
   ]
  },
  {
   "cell_type": "code",
   "execution_count": 159,
   "metadata": {},
   "outputs": [],
   "source": [
    "df = pd.read_csv('../src/data/enrollment_by_grade_2017.csv')"
   ]
  },
  {
   "cell_type": "code",
   "execution_count": 160,
   "metadata": {},
   "outputs": [
    {
     "output_type": "execute_result",
     "data": {
      "text/plain": [
       "['Prekindergarten',\n",
       " 'Kindergarten',\n",
       " '1st grade',\n",
       " '2nd grade',\n",
       " '3rd grade',\n",
       " '4th grade',\n",
       " '5th grade',\n",
       " '6th grade',\n",
       " '7th grade',\n",
       " '8th grade',\n",
       " 'Un-graded Primary',\n",
       " '9th grade',\n",
       " '10th grade',\n",
       " '11th grade',\n",
       " '12th grade',\n",
       " 'Un-graded Secondary']"
      ]
     },
     "metadata": {},
     "execution_count": 160
    }
   ],
   "source": [
    "df.columns.tolist()"
   ]
  },
  {
   "cell_type": "code",
   "execution_count": 161,
   "metadata": {},
   "outputs": [
    {
     "output_type": "execute_result",
     "data": {
      "text/plain": [
       "[1471.2160000000001,\n",
       " 3684.238,\n",
       " 3667.1659999999997,\n",
       " 3684.091,\n",
       " 3787.97,\n",
       " 3859.475,\n",
       " 3877.2670000000003,\n",
       " 3827.0229999999997,\n",
       " 3776.565,\n",
       " 3772.276,\n",
       " 88.76799999999999,\n",
       " 3995.574,\n",
       " 3833.718,\n",
       " 3676.7529999999997,\n",
       " 3631.45,\n",
       " 52.016999999999996]"
      ]
     },
     "metadata": {},
     "execution_count": 161
    }
   ],
   "source": [
    "df.iloc[0].tolist()"
   ]
  },
  {
   "cell_type": "code",
   "execution_count": 162,
   "metadata": {},
   "outputs": [],
   "source": [
    "# source = ColumnDataSource(df)\n",
    "colors = [ \"#355070\", \"#6d597a\", \"#b56576\", \"#e56b6f\", \"#eaac8b\", \"#d8e2dc\", \"#ffe5d9\", \"#f4acb7\", \"#9d8189\", \"#d4e09b\", \"#f6f4d2\", \"#cbdfbd\", \"#f19c79\", \"#cad2c5\", \"#52796f\", \"#354f52\", \"#9b9b7a\", \"#d08c60\", \"#415a77\" ]"
   ]
  },
  {
   "cell_type": "code",
   "execution_count": 163,
   "metadata": {},
   "outputs": [],
   "source": [
    "p = figure(x_range=df.columns.tolist(), plot_width=1000, x_axis_label='Grade', y_axis_label='Enrollment', title='Primary and Secondary School Enrollment by Grade (USA, 2017)')\n",
    "p.vbar(x=df.columns.tolist(), top=df.iloc[0].tolist(), width=0.8, fill_color=colors)\n",
    "p.xaxis.major_label_orientation = math.pi/5"
   ]
  },
  {
   "cell_type": "code",
   "execution_count": 164,
   "metadata": {},
   "outputs": [],
   "source": [
    "show(p)"
   ]
  },
  {
   "cell_type": "code",
   "execution_count": 165,
   "metadata": {},
   "outputs": [
    {
     "output_type": "execute_result",
     "data": {
      "text/plain": [
       "'/home/sam/Documents/Projects/Software/eduworld/eduworld/src/html/enrollment_2017.html'"
      ]
     },
     "metadata": {},
     "execution_count": 165
    }
   ],
   "source": [
    "save(p)"
   ]
  },
  {
   "cell_type": "code",
   "execution_count": null,
   "metadata": {},
   "outputs": [],
   "source": []
  }
 ]
}