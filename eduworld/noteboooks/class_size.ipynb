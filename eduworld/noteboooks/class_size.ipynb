{
 "metadata": {
  "language_info": {
   "codemirror_mode": {
    "name": "ipython",
    "version": 3
   },
   "file_extension": ".py",
   "mimetype": "text/x-python",
   "name": "python",
   "nbconvert_exporter": "python",
   "pygments_lexer": "ipython3",
   "version": "3.8.5-final"
  },
  "orig_nbformat": 2,
  "kernelspec": {
   "name": "python3",
   "display_name": "Python 3"
  }
 },
 "nbformat": 4,
 "nbformat_minor": 2,
 "cells": [
  {
   "cell_type": "code",
   "execution_count": 2,
   "metadata": {},
   "outputs": [],
   "source": [
    "import numpy as np\n",
    "import pandas as pd\n",
    "from bokeh.io import output_file, save\n",
    "from bokeh.models import ColumnDataSource, FactorRange\n",
    "from bokeh.plotting import figure\n",
    "from bokeh.palettes import Pastel1\n",
    "from bokeh.transform import factor_cmap"
   ]
  },
  {
   "cell_type": "code",
   "execution_count": 3,
   "metadata": {},
   "outputs": [],
   "source": [
    "output_file('../src/html/class_size_by_type.html')"
   ]
  },
  {
   "cell_type": "code",
   "execution_count": 36,
   "metadata": {},
   "outputs": [
    {
     "output_type": "execute_result",
     "data": {
      "text/plain": [
       "MultiIndex([(      'Primary schools',   'Self-contained'),\n",
       "            (      'Primary schools', 'Departmentalized'),\n",
       "            (       'Middle schools',   'Self-contained'),\n",
       "            (       'Middle schools', 'Departmentalized'),\n",
       "            (         'High schools',   'Self-contained'),\n",
       "            (         'High schools', 'Departmentalized'),\n",
       "            ('Combined grade schols',   'Self-contained'),\n",
       "            ('Combined grade schols', 'Departmentalized')],\n",
       "           names=['School level', 'Class type'])"
      ]
     },
     "metadata": {},
     "execution_count": 36
    }
   ],
   "source": [
    "class_types = [\n",
    "    ['Primary schools', 'Middle schools', 'High schools', 'Combined grade schols'],\n",
    "    ['Self-contained', 'Departmentalized']\n",
    "]\n",
    "index = pd.MultiIndex.from_product(class_types, names=['School level', 'Class type'])\n",
    "index"
   ]
  },
  {
   "cell_type": "code",
   "execution_count": 33,
   "metadata": {},
   "outputs": [],
   "source": [
    "# data : class size dataframe\n",
    "df = pd.read_csv('/home/sam/Documents/Projects/Software/eduworld/eduworld/src/data/class_size/class_sizes.csv')"
   ]
  },
  {
   "cell_type": "code",
   "execution_count": 41,
   "metadata": {},
   "outputs": [
    {
     "output_type": "execute_result",
     "data": {
      "text/plain": [
       "<pandas.core.groupby.generic.DataFrameGroupBy object at 0x7f019720d9d0>"
      ]
     },
     "metadata": {},
     "execution_count": 41
    }
   ],
   "source": [
    "grouped = df.groupby(by=['Primary schools', 'Middle schools', 'High schools', 'Combined grade schools'])\n",
    "grouped"
   ]
  },
  {
   "cell_type": "code",
   "execution_count": 38,
   "metadata": {},
   "outputs": [
    {
     "output_type": "execute_result",
     "data": {
      "text/plain": [
       "MultiIndex([('Self-contained', 'Departmentalized', 'Self-contained', ...),\n",
       "            (          '20.9',             '26.2',           '16.6', ...),\n",
       "            (          '19.9',             '25.1',            '8.1', ...),\n",
       "            (          '21.6',             '22.9',           '11.9', ...),\n",
       "            (          '23.9',             '29.5',           '11.0', ...),\n",
       "            (          '20.4',             '26.9',           '11.0', ...),\n",
       "            (          '24.2',             '29.2',           '22.3', ...),\n",
       "            (          '22.8',             '23.1',           '21.0', ...),\n",
       "            (          '19.4',             '22.9',              '‡', ...),\n",
       "            (          '19.8',             '26.8',           '14.3', ...),\n",
       "            (             '‡',                '‡',              '‡', ...),\n",
       "            (          '18.9',             '24.7',           '14.7', ...),\n",
       "            (          '19.3',             '30.7',           '11.9', ...),\n",
       "            (          '20.6',             '29.8',           '11.9', ...),\n",
       "            (          '23.5',             '24.4',           '19.6', ...),\n",
       "            (          '21.8',             '25.5',           '21.3', ...),\n",
       "            (          '21.8',             '30.8',           '11.2', ...),\n",
       "            (          '20.8',             '22.0',           '17.5', ...),\n",
       "            (          '19.7',             '21.8',           '34.1', ...),\n",
       "            (          '20.7',             '23.6',              '#', ...),\n",
       "            (          '17.9',             '25.5',              '‡', ...),\n",
       "            (          '17.8',             '17.2',            '8.6', ...),\n",
       "            (             '‡',                '‡',              '‡', ...),\n",
       "            (          '19.7',             '21.8',           '11.3', ...),\n",
       "            (          '23.7',             '33.5',           '14.2', ...),\n",
       "            (          '22.4',             '26.0',           '22.1', ...),\n",
       "            (          '20.7',             '17.9',            '4.7', ...),\n",
       "            (          '20.2',             '26.1',           '12.0', ...),\n",
       "            (          '18.5',             '24.7',           '14.3', ...),\n",
       "            (          '18.9',             '19.7',           '13.8', ...),\n",
       "            (          '22.5',             '28.9',            '7.1', ...),\n",
       "            (          '20.1',             '21.8',           '26.1', ...),\n",
       "            (          '18.5',             '24.9',           '16.9', ...),\n",
       "            (          '19.1',             '24.6',           '12.8', ...),\n",
       "            (          '20.2',             '25.0',           '17.0', ...),\n",
       "            (          '19.6',             '24.1',              '‡', ...),\n",
       "            (          '19.3',             '20.4',           '41.8', ...),\n",
       "            (          '20.9',             '24.1',           '12.8', ...),\n",
       "            (          '21.9',             '22.5',            '8.4', ...),\n",
       "            (          '24.5',             '22.3',           '10.0', ...),\n",
       "            (          '20.6',             '24.7',           '10.4', ...),\n",
       "            (          '20.3',             '23.8',           '13.7', ...),\n",
       "            (          '20.4',             '32.9',           '10.6', ...),\n",
       "            (          '20.0',             '16.0',            '6.8', ...),\n",
       "            (          '19.2',             '24.9',           '13.8', ...),\n",
       "            (          '18.9',             '30.3',           '20.3', ...),\n",
       "            (          '24.4',             '38.5',           '24.1', ...),\n",
       "            (          '16.4',             '20.1',              '#', ...),\n",
       "            (          '19.3',             '23.9',              '‡', ...),\n",
       "            (          '21.3',             '28.3',           '16.1', ...),\n",
       "            (          '19.9',             '25.9',           '11.6', ...),\n",
       "            (          '20.3',             '24.9',           '11.2', ...),\n",
       "            (          '18.3',             '22.0',            '4.7', ...)],\n",
       "           names=['Primary schools', 'Primary schools.1', 'Middle schools', 'Middle schools.1', 'High schools', 'High schools.1', 'Combined grade schools', 'Combined grade schools.1'])"
      ]
     },
     "metadata": {},
     "execution_count": 38
    }
   ],
   "source": []
  },
  {
   "cell_type": "code",
   "execution_count": null,
   "metadata": {},
   "outputs": [],
   "source": []
  }
 ]
}